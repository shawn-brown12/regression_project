{
 "cells": [
  {
   "cell_type": "markdown",
   "id": "71668527",
   "metadata": {},
   "source": [
    "# Predicting the Cost of Single Family Homes\n",
    "\n"
   ]
  },
  {
   "cell_type": "markdown",
   "id": "3991965a",
   "metadata": {},
   "source": [
    "## Project Goals\n",
    "\n",
    "- Discover drivers behind housing prices.\n",
    "\n",
    "- Use those drivers to build a model that accurately predicts housing prices\n",
    "\n",
    "- Deliver a report that a non-technical person can read and understand the steps taken, why they wre taken, and the outcomes.\n"
   ]
  },
  {
   "cell_type": "markdown",
   "id": "78df3c8b",
   "metadata": {},
   "source": [
    "## Imports Used"
   ]
  },
  {
   "cell_type": "code",
   "execution_count": 1,
   "id": "782021fc",
   "metadata": {},
   "outputs": [],
   "source": [
    "#basic data science imports\n",
    "import pandas as pd\n",
    "import numpy as np\n",
    "import matplotlib.pyplot as plt\n",
    "import seaborn as sns\n",
    "\n",
    "#imports for stats tests\n",
    "from scipy import stats\n",
    "from math import sqrt\n",
    "from scipy.stats import pearsonr, spearmanr\n",
    "\n",
    "#imports for stats functions\n",
    "from sklearn.model_selection import train_test_split\n",
    "from sklearn.metrics import mean_squared_error, r2_score, explained_variance_score\n",
    "\n",
    "#imports for feature engineering and modeling\n",
    "from sklearn.feature_selection import SelectKBest, f_regression, RFE\n",
    "from sklearn.preprocessing import MinMaxScaler, StandardScaler, RobustScaler, PolynomialFeatures\n",
    "from sklearn.linear_model import LassoLars, LinearRegression, TweedieRegressor\n",
    "\n",
    "#importing created .py files\n",
    "import acquire\n",
    "import prepare\n",
    "import explore\n",
    "import model\n",
    "\n",
    "#so that charts show how I want\n",
    "%matplotlib inline\n",
    "pd.options.display.max_columns = None\n",
    "\n",
    "#ignore red warning boxes\n",
    "import warnings\n",
    "warnings.filterwarnings(\"ignore\")\n",
    "\n",
    "#setting a seed for reproducibility\n",
    "seed = 42"
   ]
  },
  {
   "cell_type": "markdown",
   "id": "685894b8",
   "metadata": {},
   "source": [
    "# Acquire\n",
    "\n",
    "- I obtained my data from the Codeup MySQL server\n",
    "\n",
    "\n",
    "- Data was pulled from the server on 01/19/2023\n",
    "\n",
    "\n",
    "- The dataset, when I started, was 56080 rows by 8 columns\n",
    "\n",
    "\n",
    "- Each row represents a house, while each column is a feature of that house"
   ]
  },
  {
   "cell_type": "code",
   "execution_count": 2,
   "id": "42957bc9",
   "metadata": {},
   "outputs": [],
   "source": [
    "#this pulls my data either from a .csv file I created, or directly from the server, \n",
    "#and then it saves that data to a .csv\n",
    "df = acquire.get_zillow()"
   ]
  },
  {
   "cell_type": "code",
   "execution_count": 3,
   "id": "2bfb2eea",
   "metadata": {},
   "outputs": [
    {
     "data": {
      "text/html": [
       "<div>\n",
       "<style scoped>\n",
       "    .dataframe tbody tr th:only-of-type {\n",
       "        vertical-align: middle;\n",
       "    }\n",
       "\n",
       "    .dataframe tbody tr th {\n",
       "        vertical-align: top;\n",
       "    }\n",
       "\n",
       "    .dataframe thead th {\n",
       "        text-align: right;\n",
       "    }\n",
       "</style>\n",
       "<table border=\"1\" class=\"dataframe\">\n",
       "  <thead>\n",
       "    <tr style=\"text-align: right;\">\n",
       "      <th></th>\n",
       "      <th>parcelid</th>\n",
       "      <th>bedroomcnt</th>\n",
       "      <th>bathroomcnt</th>\n",
       "      <th>calculatedfinishedsquarefeet</th>\n",
       "      <th>taxvaluedollarcnt</th>\n",
       "      <th>yearbuilt</th>\n",
       "      <th>taxamount</th>\n",
       "      <th>fips</th>\n",
       "    </tr>\n",
       "  </thead>\n",
       "  <tbody>\n",
       "    <tr>\n",
       "      <th>0</th>\n",
       "      <td>10804942</td>\n",
       "      <td>3.0</td>\n",
       "      <td>2.0</td>\n",
       "      <td>1175.0</td>\n",
       "      <td>327859.0</td>\n",
       "      <td>1953.0</td>\n",
       "      <td>4050.73</td>\n",
       "      <td>6037.0</td>\n",
       "    </tr>\n",
       "  </tbody>\n",
       "</table>\n",
       "</div>"
      ],
      "text/plain": [
       "   parcelid  bedroomcnt  bathroomcnt  calculatedfinishedsquarefeet  \\\n",
       "0  10804942         3.0          2.0                        1175.0   \n",
       "\n",
       "   taxvaluedollarcnt  yearbuilt  taxamount    fips  \n",
       "0           327859.0     1953.0    4050.73  6037.0  "
      ]
     },
     "execution_count": 3,
     "metadata": {},
     "output_type": "execute_result"
    }
   ],
   "source": [
    "#grabbing the head row to check the column names\n",
    "df.head(1)"
   ]
  },
  {
   "cell_type": "markdown",
   "id": "faf28929",
   "metadata": {},
   "source": [
    "# Prepare\n",
    "\n",
    "After acquiring my data, I had to prepare it. To do so, I:\n",
    "\n",
    "- Checked for null fields\n",
    "\n",
    "    - There was only a small number of nulls, so I just dropped each row with a null value within\n",
    "    \n",
    "    \n",
    "- Checkfor outliers\n",
    "\n",
    "    - There was a decent amount of outliers, so I started with only removing a small percentage. My data still showed skew, though, so I ended up removing a few thousand rows in the end from my data. My models did end up benefitting quite a lot from this.\n",
    "    \n",
    "    \n",
    "- I ended up renaming most columns to something more manageable, as well as dropping a few that weren't useful."
   ]
  },
  {
   "cell_type": "code",
   "execution_count": 4,
   "id": "cc115082",
   "metadata": {},
   "outputs": [
    {
     "data": {
      "text/html": [
       "<div>\n",
       "<style scoped>\n",
       "    .dataframe tbody tr th:only-of-type {\n",
       "        vertical-align: middle;\n",
       "    }\n",
       "\n",
       "    .dataframe tbody tr th {\n",
       "        vertical-align: top;\n",
       "    }\n",
       "\n",
       "    .dataframe thead th {\n",
       "        text-align: right;\n",
       "    }\n",
       "</style>\n",
       "<table border=\"1\" class=\"dataframe\">\n",
       "  <thead>\n",
       "    <tr style=\"text-align: right;\">\n",
       "      <th></th>\n",
       "      <th>bedrooms</th>\n",
       "      <th>bathrooms</th>\n",
       "      <th>sqft</th>\n",
       "      <th>tax_value</th>\n",
       "      <th>year_built</th>\n",
       "      <th>fips</th>\n",
       "    </tr>\n",
       "  </thead>\n",
       "  <tbody>\n",
       "    <tr>\n",
       "      <th>0</th>\n",
       "      <td>3.0</td>\n",
       "      <td>2.0</td>\n",
       "      <td>1175.0</td>\n",
       "      <td>327859.0</td>\n",
       "      <td>1953.0</td>\n",
       "      <td>6037.0</td>\n",
       "    </tr>\n",
       "  </tbody>\n",
       "</table>\n",
       "</div>"
      ],
      "text/plain": [
       "   bedrooms  bathrooms    sqft  tax_value  year_built    fips\n",
       "0       3.0        2.0  1175.0   327859.0      1953.0  6037.0"
      ]
     },
     "execution_count": 4,
     "metadata": {},
     "output_type": "execute_result"
    }
   ],
   "source": [
    "#this functions does everything mentioned above except for remove the outliers\n",
    "df = prepare.prep_zillow(df)\n",
    "df.head(1)"
   ]
  },
  {
   "cell_type": "code",
   "execution_count": 5,
   "id": "dc34123b",
   "metadata": {},
   "outputs": [],
   "source": [
    "#for my outlier function to, well, function properly, \n",
    "#I need to set a variable name for the columns I want to check\n",
    "cols = ['bedrooms', 'bathrooms', 'sqft', 'tax_value', 'year_built', 'fips']"
   ]
  },
  {
   "cell_type": "code",
   "execution_count": 6,
   "id": "323570aa",
   "metadata": {},
   "outputs": [
    {
     "data": {
      "text/html": [
       "<div>\n",
       "<style scoped>\n",
       "    .dataframe tbody tr th:only-of-type {\n",
       "        vertical-align: middle;\n",
       "    }\n",
       "\n",
       "    .dataframe tbody tr th {\n",
       "        vertical-align: top;\n",
       "    }\n",
       "\n",
       "    .dataframe thead th {\n",
       "        text-align: right;\n",
       "    }\n",
       "</style>\n",
       "<table border=\"1\" class=\"dataframe\">\n",
       "  <thead>\n",
       "    <tr style=\"text-align: right;\">\n",
       "      <th></th>\n",
       "      <th>bedrooms</th>\n",
       "      <th>bathrooms</th>\n",
       "      <th>sqft</th>\n",
       "      <th>tax_value</th>\n",
       "      <th>year_built</th>\n",
       "      <th>fips</th>\n",
       "    </tr>\n",
       "  </thead>\n",
       "  <tbody>\n",
       "    <tr>\n",
       "      <th>0</th>\n",
       "      <td>3.0</td>\n",
       "      <td>2.0</td>\n",
       "      <td>1175.0</td>\n",
       "      <td>327859.0</td>\n",
       "      <td>1953.0</td>\n",
       "      <td>6037.0</td>\n",
       "    </tr>\n",
       "  </tbody>\n",
       "</table>\n",
       "</div>"
      ],
      "text/plain": [
       "   bedrooms  bathrooms    sqft  tax_value  year_built    fips\n",
       "0       3.0        2.0  1175.0   327859.0      1953.0  6037.0"
      ]
     },
     "execution_count": 6,
     "metadata": {},
     "output_type": "execute_result"
    }
   ],
   "source": [
    "#function that removes my outliers\n",
    "df = prepare.remove_outliers(df, 2, cols)\n",
    "df.head(1)\n",
    "#I end up losing almost 9000 rows between dropping my null values, and removing outliers, \n",
    "#but, as stated above, my model improves quite a lot for it."
   ]
  },
  {
   "cell_type": "code",
   "execution_count": 7,
   "id": "f6c81df8",
   "metadata": {},
   "outputs": [
    {
     "name": "stdout",
     "output_type": "stream",
     "text": [
      "(27650, 6) (9217, 6) (9217, 6)\n"
     ]
    }
   ],
   "source": [
    "#this function splits my data into trai, validate and test subsets as well as printing off the shape of each\n",
    "train, validate, test = prepare.subset_df(df)"
   ]
  },
  {
   "cell_type": "markdown",
   "id": "9f9d27b0",
   "metadata": {},
   "source": [
    "# Exploration"
   ]
  },
  {
   "cell_type": "markdown",
   "id": "a7592ddf",
   "metadata": {},
   "source": [
    "## Do bedroom and bathroom counts have a relationship?"
   ]
  },
  {
   "cell_type": "code",
   "execution_count": 8,
   "id": "b7d20110",
   "metadata": {},
   "outputs": [
    {
     "data": {
      "image/png": "[encoded data removed]",
      "text/plain": [
       "<Figure size 700x600 with 1 Axes>"
      ]
     },
     "metadata": {},
     "output_type": "display_data"
    }
   ],
   "source": [
    "#function created for visual\n",
    "explore.first_viz(train)"
   ]
  },
  {
   "cell_type": "markdown",
   "id": "af6b873f",
   "metadata": {},
   "source": [
    "- The main takeaaway here is that it's pretty clear here that there's a relationship between the bedrooms and bathrooms here\n",
    "\n",
    "- Additionally, with how much these two features seem to be correlated, it might not be a good idea to model with them both. \n",
    "\n",
    "- As it's pretty clear there's at least *something* of a relationship, I chose not to perform any statistical tests at this time.\n"
   ]
  },
  {
   "cell_type": "markdown",
   "id": "68d6fb2d",
   "metadata": {},
   "source": [
    "## Does year built have an effect on the number of bedrooms?"
   ]
  },
  {
   "cell_type": "code",
   "execution_count": null,
   "id": "03dac082",
   "metadata": {},
   "outputs": [],
   "source": []
  },
  {
   "cell_type": "markdown",
   "id": "13887414",
   "metadata": {},
   "source": []
  },
  {
   "cell_type": "markdown",
   "id": "8a236582",
   "metadata": {},
   "source": [
    "## Does year built have a relationship with the square feet of the house?  "
   ]
  },
  {
   "cell_type": "code",
   "execution_count": null,
   "id": "aff6546e",
   "metadata": {},
   "outputs": [],
   "source": []
  },
  {
   "cell_type": "markdown",
   "id": "37c2b5dc",
   "metadata": {},
   "source": []
  },
  {
   "cell_type": "markdown",
   "id": "4d5b0a50",
   "metadata": {},
   "source": [
    "## Does fips have a relationship with the square feet?"
   ]
  },
  {
   "cell_type": "code",
   "execution_count": null,
   "id": "627ab37f",
   "metadata": {},
   "outputs": [],
   "source": []
  },
  {
   "cell_type": "markdown",
   "id": "aee6f6f4",
   "metadata": {},
   "source": []
  },
  {
   "cell_type": "markdown",
   "id": "b928c846",
   "metadata": {},
   "source": [
    "## Is there a relationship between bathrooms and fips?"
   ]
  },
  {
   "cell_type": "code",
   "execution_count": null,
   "id": "0cf13855",
   "metadata": {},
   "outputs": [],
   "source": []
  },
  {
   "cell_type": "markdown",
   "id": "b89ec138",
   "metadata": {},
   "source": []
  },
  {
   "cell_type": "markdown",
   "id": "74f0181d",
   "metadata": {},
   "source": []
  },
  {
   "cell_type": "markdown",
   "id": "8acc6aa6",
   "metadata": {},
   "source": []
  },
  {
   "cell_type": "markdown",
   "id": "95b73aae",
   "metadata": {},
   "source": []
  },
  {
   "cell_type": "markdown",
   "id": "92bf8395",
   "metadata": {},
   "source": []
  },
  {
   "cell_type": "markdown",
   "id": "700d6449",
   "metadata": {},
   "source": []
  },
  {
   "cell_type": "markdown",
   "id": "75d3e965",
   "metadata": {},
   "source": []
  },
  {
   "cell_type": "markdown",
   "id": "3958f885",
   "metadata": {},
   "source": []
  },
  {
   "cell_type": "markdown",
   "id": "0336f999",
   "metadata": {},
   "source": []
  },
  {
   "cell_type": "markdown",
   "id": "aee3e30f",
   "metadata": {},
   "source": []
  }
 ],
 "metadata": {
  "kernelspec": {
   "display_name": "Python 3 (ipykernel)",
   "language": "python",
   "name": "python3"
  },
  "language_info": {
   "codemirror_mode": {
    "name": "ipython",
    "version": 3
   },
   "file_extension": ".py",
   "mimetype": "text/x-python",
   "name": "python",
   "nbconvert_exporter": "python",
   "pygments_lexer": "ipython3",
   "version": "3.9.15"
  },
  "toc": {
   "base_numbering": 1,
   "nav_menu": {},
   "number_sections": true,
   "sideBar": true,
   "skip_h1_title": false,
   "title_cell": "Table of Contents",
   "title_sidebar": "Contents",
   "toc_cell": false,
   "toc_position": {},
   "toc_section_display": true,
   "toc_window_display": false
  }
 },
 "nbformat": 4,
 "nbformat_minor": 5
}

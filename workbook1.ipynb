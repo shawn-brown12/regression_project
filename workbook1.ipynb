{
 "cells": [
  {
   "cell_type": "code",
   "execution_count": 25,
   "id": "02ed984e",
   "metadata": {},
   "outputs": [],
   "source": [
    "import pandas as pd\n",
    "import numpy as np\n",
    "import matplotlib.pyplot as plt\n",
    "import seaborn as sns\n",
    "\n",
    "from scipy import stats\n",
    "from math import sqrt\n",
    "from scipy.stats import pearsonr, spearmanr\n",
    "\n",
    "from sklearn.model_selection import train_test_split\n",
    "from sklearn.metrics import mean_squared_error, r2_score, explained_variance_score\n",
    "\n",
    "from sklearn.feature_selection import SelectKBest, f_regression, RFE\n",
    "from sklearn.preprocessing import MinMaxScaler, StandardScaler, RobustScaler, PolynomialFeatures\n",
    "from sklearn.linear_model import LassoLars, LinearRegression, TweedieRegressor\n",
    "\n",
    "import acquire\n",
    "import prepare\n",
    "import explore\n",
    "import model\n",
    "\n",
    "%matplotlib inline\n",
    "pd.options.display.max_columns = None\n",
    "\n",
    "import warnings\n",
    "warnings.filterwarnings(\"ignore\")\n",
    "\n",
    "seed = 42"
   ]
  },
  {
   "cell_type": "markdown",
   "id": "14a192f5",
   "metadata": {},
   "source": [
    "# acquire"
   ]
  },
  {
   "cell_type": "code",
   "execution_count": 26,
   "id": "b530f897",
   "metadata": {},
   "outputs": [],
   "source": [
    "df = acquire.get_zillow()"
   ]
  },
  {
   "cell_type": "code",
   "execution_count": 27,
   "id": "f87d13dc",
   "metadata": {},
   "outputs": [
    {
     "data": {
      "text/html": [
       "<div>\n",
       "<style scoped>\n",
       "    .dataframe tbody tr th:only-of-type {\n",
       "        vertical-align: middle;\n",
       "    }\n",
       "\n",
       "    .dataframe tbody tr th {\n",
       "        vertical-align: top;\n",
       "    }\n",
       "\n",
       "    .dataframe thead th {\n",
       "        text-align: right;\n",
       "    }\n",
       "</style>\n",
       "<table border=\"1\" class=\"dataframe\">\n",
       "  <thead>\n",
       "    <tr style=\"text-align: right;\">\n",
       "      <th></th>\n",
       "      <th>parcelid</th>\n",
       "      <th>bedroomcnt</th>\n",
       "      <th>bathroomcnt</th>\n",
       "      <th>calculatedfinishedsquarefeet</th>\n",
       "      <th>taxvaluedollarcnt</th>\n",
       "      <th>yearbuilt</th>\n",
       "      <th>taxamount</th>\n",
       "      <th>fips</th>\n",
       "    </tr>\n",
       "  </thead>\n",
       "  <tbody>\n",
       "    <tr>\n",
       "      <th>0</th>\n",
       "      <td>10804942</td>\n",
       "      <td>3.0</td>\n",
       "      <td>2.0</td>\n",
       "      <td>1175.0</td>\n",
       "      <td>327859.0</td>\n",
       "      <td>1953.0</td>\n",
       "      <td>4050.73</td>\n",
       "      <td>6037.0</td>\n",
       "    </tr>\n",
       "    <tr>\n",
       "      <th>1</th>\n",
       "      <td>14207926</td>\n",
       "      <td>3.0</td>\n",
       "      <td>2.0</td>\n",
       "      <td>1630.0</td>\n",
       "      <td>63948.0</td>\n",
       "      <td>1953.0</td>\n",
       "      <td>852.29</td>\n",
       "      <td>6037.0</td>\n",
       "    </tr>\n",
       "    <tr>\n",
       "      <th>2</th>\n",
       "      <td>10986950</td>\n",
       "      <td>2.0</td>\n",
       "      <td>2.0</td>\n",
       "      <td>1206.0</td>\n",
       "      <td>356218.0</td>\n",
       "      <td>1954.0</td>\n",
       "      <td>4393.33</td>\n",
       "      <td>6037.0</td>\n",
       "    </tr>\n",
       "    <tr>\n",
       "      <th>3</th>\n",
       "      <td>14207492</td>\n",
       "      <td>3.0</td>\n",
       "      <td>2.0</td>\n",
       "      <td>1790.0</td>\n",
       "      <td>242773.0</td>\n",
       "      <td>1964.0</td>\n",
       "      <td>3037.37</td>\n",
       "      <td>6037.0</td>\n",
       "    </tr>\n",
       "    <tr>\n",
       "      <th>4</th>\n",
       "      <td>11147606</td>\n",
       "      <td>3.0</td>\n",
       "      <td>2.0</td>\n",
       "      <td>1400.0</td>\n",
       "      <td>251246.0</td>\n",
       "      <td>1953.0</td>\n",
       "      <td>3081.31</td>\n",
       "      <td>6037.0</td>\n",
       "    </tr>\n",
       "  </tbody>\n",
       "</table>\n",
       "</div>"
      ],
      "text/plain": [
       "   parcelid  bedroomcnt  bathroomcnt  calculatedfinishedsquarefeet  \\\n",
       "0  10804942         3.0          2.0                        1175.0   \n",
       "1  14207926         3.0          2.0                        1630.0   \n",
       "2  10986950         2.0          2.0                        1206.0   \n",
       "3  14207492         3.0          2.0                        1790.0   \n",
       "4  11147606         3.0          2.0                        1400.0   \n",
       "\n",
       "   taxvaluedollarcnt  yearbuilt  taxamount    fips  \n",
       "0           327859.0     1953.0    4050.73  6037.0  \n",
       "1            63948.0     1953.0     852.29  6037.0  \n",
       "2           356218.0     1954.0    4393.33  6037.0  \n",
       "3           242773.0     1964.0    3037.37  6037.0  \n",
       "4           251246.0     1953.0    3081.31  6037.0  "
      ]
     },
     "execution_count": 27,
     "metadata": {},
     "output_type": "execute_result"
    }
   ],
   "source": [
    "df.head()"
   ]
  },
  {
   "cell_type": "code",
   "execution_count": 28,
   "id": "0ddff469",
   "metadata": {
    "scrolled": true
   },
   "outputs": [
    {
     "name": "stdout",
     "output_type": "stream",
     "text": [
      "<class 'pandas.core.frame.DataFrame'>\n",
      "RangeIndex: 56080 entries, 0 to 56079\n",
      "Data columns (total 8 columns):\n",
      " #   Column                        Non-Null Count  Dtype  \n",
      "---  ------                        --------------  -----  \n",
      " 0   parcelid                      56080 non-null  int64  \n",
      " 1   bedroomcnt                    56080 non-null  float64\n",
      " 2   bathroomcnt                   56080 non-null  float64\n",
      " 3   calculatedfinishedsquarefeet  55849 non-null  float64\n",
      " 4   taxvaluedollarcnt             56072 non-null  float64\n",
      " 5   yearbuilt                     55831 non-null  float64\n",
      " 6   taxamount                     55950 non-null  float64\n",
      " 7   fips                          56080 non-null  float64\n",
      "dtypes: float64(7), int64(1)\n",
      "memory usage: 3.4 MB\n"
     ]
    }
   ],
   "source": [
    "df.info()"
   ]
  },
  {
   "cell_type": "code",
   "execution_count": 29,
   "id": "a181cc76",
   "metadata": {
    "scrolled": true
   },
   "outputs": [
    {
     "data": {
      "text/plain": [
       "parcelid                          0\n",
       "bedroomcnt                        0\n",
       "bathroomcnt                       0\n",
       "calculatedfinishedsquarefeet    231\n",
       "taxvaluedollarcnt                 8\n",
       "yearbuilt                       249\n",
       "taxamount                       130\n",
       "fips                              0\n",
       "dtype: int64"
      ]
     },
     "execution_count": 29,
     "metadata": {},
     "output_type": "execute_result"
    }
   ],
   "source": [
    "df.isna().sum()"
   ]
  },
  {
   "cell_type": "markdown",
   "id": "68a2c659",
   "metadata": {},
   "source": [
    "# prepare"
   ]
  },
  {
   "cell_type": "code",
   "execution_count": 30,
   "id": "395fa68c",
   "metadata": {},
   "outputs": [],
   "source": [
    "df = prepare.prep_zillow(df)"
   ]
  },
  {
   "cell_type": "code",
   "execution_count": 31,
   "id": "780e31d0",
   "metadata": {},
   "outputs": [],
   "source": [
    "cols = ['bedrooms', 'bathrooms', 'sqft', 'year_built', 'fips']"
   ]
  },
  {
   "cell_type": "code",
   "execution_count": 36,
   "id": "7728bebf",
   "metadata": {},
   "outputs": [],
   "source": [
    "df = prepare.remove_outliers(df, 1, cols)"
   ]
  },
  {
   "cell_type": "code",
   "execution_count": 37,
   "id": "ec2ee810",
   "metadata": {},
   "outputs": [
    {
     "data": {
      "text/html": [
       "<div>\n",
       "<style scoped>\n",
       "    .dataframe tbody tr th:only-of-type {\n",
       "        vertical-align: middle;\n",
       "    }\n",
       "\n",
       "    .dataframe tbody tr th {\n",
       "        vertical-align: top;\n",
       "    }\n",
       "\n",
       "    .dataframe thead th {\n",
       "        text-align: right;\n",
       "    }\n",
       "</style>\n",
       "<table border=\"1\" class=\"dataframe\">\n",
       "  <thead>\n",
       "    <tr style=\"text-align: right;\">\n",
       "      <th></th>\n",
       "      <th>bedrooms</th>\n",
       "      <th>bathrooms</th>\n",
       "      <th>sqft</th>\n",
       "      <th>tax_value</th>\n",
       "      <th>year_built</th>\n",
       "      <th>fips</th>\n",
       "    </tr>\n",
       "  </thead>\n",
       "  <tbody>\n",
       "    <tr>\n",
       "      <th>0</th>\n",
       "      <td>3.0</td>\n",
       "      <td>2.0</td>\n",
       "      <td>1175.0</td>\n",
       "      <td>327859.0</td>\n",
       "      <td>1953.0</td>\n",
       "      <td>6037.0</td>\n",
       "    </tr>\n",
       "    <tr>\n",
       "      <th>1</th>\n",
       "      <td>3.0</td>\n",
       "      <td>2.0</td>\n",
       "      <td>1630.0</td>\n",
       "      <td>63948.0</td>\n",
       "      <td>1953.0</td>\n",
       "      <td>6037.0</td>\n",
       "    </tr>\n",
       "    <tr>\n",
       "      <th>3</th>\n",
       "      <td>3.0</td>\n",
       "      <td>2.0</td>\n",
       "      <td>1790.0</td>\n",
       "      <td>242773.0</td>\n",
       "      <td>1964.0</td>\n",
       "      <td>6037.0</td>\n",
       "    </tr>\n",
       "    <tr>\n",
       "      <th>4</th>\n",
       "      <td>3.0</td>\n",
       "      <td>2.0</td>\n",
       "      <td>1400.0</td>\n",
       "      <td>251246.0</td>\n",
       "      <td>1953.0</td>\n",
       "      <td>6037.0</td>\n",
       "    </tr>\n",
       "    <tr>\n",
       "      <th>6</th>\n",
       "      <td>4.0</td>\n",
       "      <td>3.0</td>\n",
       "      <td>2603.0</td>\n",
       "      <td>185086.0</td>\n",
       "      <td>1976.0</td>\n",
       "      <td>6037.0</td>\n",
       "    </tr>\n",
       "    <tr>\n",
       "      <th>...</th>\n",
       "      <td>...</td>\n",
       "      <td>...</td>\n",
       "      <td>...</td>\n",
       "      <td>...</td>\n",
       "      <td>...</td>\n",
       "      <td>...</td>\n",
       "    </tr>\n",
       "    <tr>\n",
       "      <th>56074</th>\n",
       "      <td>3.0</td>\n",
       "      <td>2.0</td>\n",
       "      <td>1549.0</td>\n",
       "      <td>482243.0</td>\n",
       "      <td>1958.0</td>\n",
       "      <td>6037.0</td>\n",
       "    </tr>\n",
       "    <tr>\n",
       "      <th>56075</th>\n",
       "      <td>3.0</td>\n",
       "      <td>2.0</td>\n",
       "      <td>1400.0</td>\n",
       "      <td>318206.0</td>\n",
       "      <td>1951.0</td>\n",
       "      <td>6037.0</td>\n",
       "    </tr>\n",
       "    <tr>\n",
       "      <th>56076</th>\n",
       "      <td>4.0</td>\n",
       "      <td>2.0</td>\n",
       "      <td>1446.0</td>\n",
       "      <td>140804.0</td>\n",
       "      <td>1951.0</td>\n",
       "      <td>6037.0</td>\n",
       "    </tr>\n",
       "    <tr>\n",
       "      <th>56077</th>\n",
       "      <td>4.0</td>\n",
       "      <td>2.0</td>\n",
       "      <td>1584.0</td>\n",
       "      <td>412114.0</td>\n",
       "      <td>1955.0</td>\n",
       "      <td>6037.0</td>\n",
       "    </tr>\n",
       "    <tr>\n",
       "      <th>56078</th>\n",
       "      <td>4.0</td>\n",
       "      <td>2.0</td>\n",
       "      <td>1584.0</td>\n",
       "      <td>186627.0</td>\n",
       "      <td>1955.0</td>\n",
       "      <td>6037.0</td>\n",
       "    </tr>\n",
       "  </tbody>\n",
       "</table>\n",
       "<p>26779 rows × 6 columns</p>\n",
       "</div>"
      ],
      "text/plain": [
       "       bedrooms  bathrooms    sqft  tax_value  year_built    fips\n",
       "0           3.0        2.0  1175.0   327859.0      1953.0  6037.0\n",
       "1           3.0        2.0  1630.0    63948.0      1953.0  6037.0\n",
       "3           3.0        2.0  1790.0   242773.0      1964.0  6037.0\n",
       "4           3.0        2.0  1400.0   251246.0      1953.0  6037.0\n",
       "6           4.0        3.0  2603.0   185086.0      1976.0  6037.0\n",
       "...         ...        ...     ...        ...         ...     ...\n",
       "56074       3.0        2.0  1549.0   482243.0      1958.0  6037.0\n",
       "56075       3.0        2.0  1400.0   318206.0      1951.0  6037.0\n",
       "56076       4.0        2.0  1446.0   140804.0      1951.0  6037.0\n",
       "56077       4.0        2.0  1584.0   412114.0      1955.0  6037.0\n",
       "56078       4.0        2.0  1584.0   186627.0      1955.0  6037.0\n",
       "\n",
       "[26779 rows x 6 columns]"
      ]
     },
     "execution_count": 37,
     "metadata": {},
     "output_type": "execute_result"
    }
   ],
   "source": [
    "df"
   ]
  },
  {
   "cell_type": "code",
   "execution_count": 17,
   "id": "b50335d9",
   "metadata": {
    "scrolled": true
   },
   "outputs": [
    {
     "data": {
      "image/png": "[encoded data removed]",
      "text/plain": [
       "<Figure size 640x480 with 1 Axes>"
      ]
     },
     "metadata": {},
     "output_type": "display_data"
    },
    {
     "data": {
      "image/png": "[encoded data removed]",
      "text/plain": [
       "<Figure size 640x480 with 1 Axes>"
      ]
     },
     "metadata": {},
     "output_type": "display_data"
    },
    {
     "data": {
      "image/png": "[encoded data removed]",
      "text/plain": [
       "<Figure size 640x480 with 1 Axes>"
      ]
     },
     "metadata": {},
     "output_type": "display_data"
    },
    {
     "data": {
      "image/png": "[encoded data removed]",
      "text/plain": [
       "<Figure size 640x480 with 1 Axes>"
      ]
     },
     "metadata": {},
     "output_type": "display_data"
    },
    {
     "data": {
      "image/png": "[encoded data removed]",
      "text/plain": [
       "<Figure size 640x480 with 1 Axes>"
      ]
     },
     "metadata": {},
     "output_type": "display_data"
    },
    {
     "data": {
      "image/png": "[encoded data removed]",
      "text/plain": [
       "<Figure size 640x480 with 1 Axes>"
      ]
     },
     "metadata": {},
     "output_type": "display_data"
    }
   ],
   "source": [
    "for col in df:\n",
    "\n",
    "    plt.hist(df[col], bins=25)\n",
    "    plt.title(f'{col} distribution')\n",
    "    plt.show()"
   ]
  },
  {
   "cell_type": "code",
   "execution_count": 38,
   "id": "21b80c92",
   "metadata": {},
   "outputs": [
    {
     "name": "stdout",
     "output_type": "stream",
     "text": [
      "(16067, 6) (5356, 6) (5356, 6)\n"
     ]
    },
    {
     "data": {
      "text/plain": [
       "((16067, 6), (5356, 6), (5356, 6))"
      ]
     },
     "execution_count": 38,
     "metadata": {},
     "output_type": "execute_result"
    }
   ],
   "source": [
    "train, validate, test = prepare.subset_df(df)\n",
    "train.shape, validate.shape, test.shape"
   ]
  },
  {
   "cell_type": "markdown",
   "id": "45091d89",
   "metadata": {},
   "source": [
    "# explore"
   ]
  },
  {
   "cell_type": "markdown",
   "id": "a0bfc49f",
   "metadata": {},
   "source": [
    "q1 - Do bedroom and bathroom counts have a relationship?\n"
   ]
  },
  {
   "cell_type": "code",
   "execution_count": 11,
   "id": "fdc4cb3a",
   "metadata": {},
   "outputs": [
    {
     "data": {
      "text/html": [
       "<div>\n",
       "<style scoped>\n",
       "    .dataframe tbody tr th:only-of-type {\n",
       "        vertical-align: middle;\n",
       "    }\n",
       "\n",
       "    .dataframe tbody tr th {\n",
       "        vertical-align: top;\n",
       "    }\n",
       "\n",
       "    .dataframe thead th {\n",
       "        text-align: right;\n",
       "    }\n",
       "</style>\n",
       "<table border=\"1\" class=\"dataframe\">\n",
       "  <thead>\n",
       "    <tr style=\"text-align: right;\">\n",
       "      <th></th>\n",
       "      <th>bedrooms</th>\n",
       "      <th>bathrooms</th>\n",
       "      <th>sqft</th>\n",
       "      <th>tax_value</th>\n",
       "      <th>yearbuilt</th>\n",
       "      <th>fips</th>\n",
       "    </tr>\n",
       "  </thead>\n",
       "  <tbody>\n",
       "    <tr>\n",
       "      <th>42956</th>\n",
       "      <td>4.0</td>\n",
       "      <td>3.0</td>\n",
       "      <td>3023.0</td>\n",
       "      <td>386000.0</td>\n",
       "      <td>2005.0</td>\n",
       "      <td>6037.0</td>\n",
       "    </tr>\n",
       "    <tr>\n",
       "      <th>32660</th>\n",
       "      <td>3.0</td>\n",
       "      <td>3.5</td>\n",
       "      <td>2319.0</td>\n",
       "      <td>557838.0</td>\n",
       "      <td>1987.0</td>\n",
       "      <td>6059.0</td>\n",
       "    </tr>\n",
       "    <tr>\n",
       "      <th>38800</th>\n",
       "      <td>3.0</td>\n",
       "      <td>3.0</td>\n",
       "      <td>2269.0</td>\n",
       "      <td>954293.0</td>\n",
       "      <td>1927.0</td>\n",
       "      <td>6037.0</td>\n",
       "    </tr>\n",
       "    <tr>\n",
       "      <th>35939</th>\n",
       "      <td>3.0</td>\n",
       "      <td>2.0</td>\n",
       "      <td>1710.0</td>\n",
       "      <td>375081.0</td>\n",
       "      <td>1965.0</td>\n",
       "      <td>6037.0</td>\n",
       "    </tr>\n",
       "    <tr>\n",
       "      <th>33312</th>\n",
       "      <td>3.0</td>\n",
       "      <td>2.5</td>\n",
       "      <td>1997.0</td>\n",
       "      <td>685293.0</td>\n",
       "      <td>1992.0</td>\n",
       "      <td>6059.0</td>\n",
       "    </tr>\n",
       "  </tbody>\n",
       "</table>\n",
       "</div>"
      ],
      "text/plain": [
       "       bedrooms  bathrooms    sqft  tax_value  yearbuilt    fips\n",
       "42956       4.0        3.0  3023.0   386000.0     2005.0  6037.0\n",
       "32660       3.0        3.5  2319.0   557838.0     1987.0  6059.0\n",
       "38800       3.0        3.0  2269.0   954293.0     1927.0  6037.0\n",
       "35939       3.0        2.0  1710.0   375081.0     1965.0  6037.0\n",
       "33312       3.0        2.5  1997.0   685293.0     1992.0  6059.0"
      ]
     },
     "execution_count": 11,
     "metadata": {},
     "output_type": "execute_result"
    }
   ],
   "source": [
    "train.head()"
   ]
  },
  {
   "cell_type": "markdown",
   "id": "805ab34e",
   "metadata": {},
   "source": [
    "There seems to be a relationship between bedrooms and bathrooms, as expected, the more bedrooms a house has, the more bathrooms."
   ]
  },
  {
   "cell_type": "markdown",
   "id": "55754207",
   "metadata": {},
   "source": [
    "q2 - Does year built have an effect on the number of bedrooms?\n"
   ]
  },
  {
   "cell_type": "code",
   "execution_count": 76,
   "id": "5df24c13",
   "metadata": {},
   "outputs": [
    {
     "data": {
      "text/html": [
       "<div>\n",
       "<style scoped>\n",
       "    .dataframe tbody tr th:only-of-type {\n",
       "        vertical-align: middle;\n",
       "    }\n",
       "\n",
       "    .dataframe tbody tr th {\n",
       "        vertical-align: top;\n",
       "    }\n",
       "\n",
       "    .dataframe thead th {\n",
       "        text-align: right;\n",
       "    }\n",
       "</style>\n",
       "<table border=\"1\" class=\"dataframe\">\n",
       "  <thead>\n",
       "    <tr style=\"text-align: right;\">\n",
       "      <th></th>\n",
       "      <th>bedrooms</th>\n",
       "      <th>bathrooms</th>\n",
       "      <th>sqft</th>\n",
       "      <th>tax_value</th>\n",
       "      <th>year_built</th>\n",
       "      <th>fips</th>\n",
       "    </tr>\n",
       "  </thead>\n",
       "  <tbody>\n",
       "    <tr>\n",
       "      <th>24475</th>\n",
       "      <td>3.0</td>\n",
       "      <td>3.0</td>\n",
       "      <td>2293.0</td>\n",
       "      <td>475946.0</td>\n",
       "      <td>1954.0</td>\n",
       "      <td>6037.0</td>\n",
       "    </tr>\n",
       "    <tr>\n",
       "      <th>39761</th>\n",
       "      <td>3.0</td>\n",
       "      <td>2.5</td>\n",
       "      <td>1656.0</td>\n",
       "      <td>238370.0</td>\n",
       "      <td>1972.0</td>\n",
       "      <td>6059.0</td>\n",
       "    </tr>\n",
       "    <tr>\n",
       "      <th>46709</th>\n",
       "      <td>3.0</td>\n",
       "      <td>2.0</td>\n",
       "      <td>1549.0</td>\n",
       "      <td>654765.0</td>\n",
       "      <td>1948.0</td>\n",
       "      <td>6037.0</td>\n",
       "    </tr>\n",
       "    <tr>\n",
       "      <th>41528</th>\n",
       "      <td>3.0</td>\n",
       "      <td>2.0</td>\n",
       "      <td>1272.0</td>\n",
       "      <td>214564.0</td>\n",
       "      <td>1952.0</td>\n",
       "      <td>6037.0</td>\n",
       "    </tr>\n",
       "    <tr>\n",
       "      <th>4166</th>\n",
       "      <td>3.0</td>\n",
       "      <td>2.0</td>\n",
       "      <td>1340.0</td>\n",
       "      <td>99451.0</td>\n",
       "      <td>1978.0</td>\n",
       "      <td>6037.0</td>\n",
       "    </tr>\n",
       "    <tr>\n",
       "      <th>...</th>\n",
       "      <td>...</td>\n",
       "      <td>...</td>\n",
       "      <td>...</td>\n",
       "      <td>...</td>\n",
       "      <td>...</td>\n",
       "      <td>...</td>\n",
       "    </tr>\n",
       "    <tr>\n",
       "      <th>45829</th>\n",
       "      <td>4.0</td>\n",
       "      <td>3.0</td>\n",
       "      <td>2475.0</td>\n",
       "      <td>594179.0</td>\n",
       "      <td>1967.0</td>\n",
       "      <td>6037.0</td>\n",
       "    </tr>\n",
       "    <tr>\n",
       "      <th>12173</th>\n",
       "      <td>4.0</td>\n",
       "      <td>2.5</td>\n",
       "      <td>1660.0</td>\n",
       "      <td>409318.0</td>\n",
       "      <td>1986.0</td>\n",
       "      <td>6059.0</td>\n",
       "    </tr>\n",
       "    <tr>\n",
       "      <th>2651</th>\n",
       "      <td>3.0</td>\n",
       "      <td>2.0</td>\n",
       "      <td>1582.0</td>\n",
       "      <td>467392.0</td>\n",
       "      <td>1965.0</td>\n",
       "      <td>6037.0</td>\n",
       "    </tr>\n",
       "    <tr>\n",
       "      <th>33870</th>\n",
       "      <td>3.0</td>\n",
       "      <td>3.0</td>\n",
       "      <td>1260.0</td>\n",
       "      <td>246542.0</td>\n",
       "      <td>1954.0</td>\n",
       "      <td>6037.0</td>\n",
       "    </tr>\n",
       "    <tr>\n",
       "      <th>49966</th>\n",
       "      <td>3.0</td>\n",
       "      <td>2.0</td>\n",
       "      <td>1564.0</td>\n",
       "      <td>381699.0</td>\n",
       "      <td>1955.0</td>\n",
       "      <td>6059.0</td>\n",
       "    </tr>\n",
       "  </tbody>\n",
       "</table>\n",
       "<p>16067 rows × 6 columns</p>\n",
       "</div>"
      ],
      "text/plain": [
       "       bedrooms  bathrooms    sqft  tax_value  year_built    fips\n",
       "24475       3.0        3.0  2293.0   475946.0      1954.0  6037.0\n",
       "39761       3.0        2.5  1656.0   238370.0      1972.0  6059.0\n",
       "46709       3.0        2.0  1549.0   654765.0      1948.0  6037.0\n",
       "41528       3.0        2.0  1272.0   214564.0      1952.0  6037.0\n",
       "4166        3.0        2.0  1340.0    99451.0      1978.0  6037.0\n",
       "...         ...        ...     ...        ...         ...     ...\n",
       "45829       4.0        3.0  2475.0   594179.0      1967.0  6037.0\n",
       "12173       4.0        2.5  1660.0   409318.0      1986.0  6059.0\n",
       "2651        3.0        2.0  1582.0   467392.0      1965.0  6037.0\n",
       "33870       3.0        3.0  1260.0   246542.0      1954.0  6037.0\n",
       "49966       3.0        2.0  1564.0   381699.0      1955.0  6059.0\n",
       "\n",
       "[16067 rows x 6 columns]"
      ]
     },
     "execution_count": 76,
     "metadata": {},
     "output_type": "execute_result"
    }
   ],
   "source": [
    "train"
   ]
  },
  {
   "cell_type": "code",
   "execution_count": 78,
   "id": "af98eb2b",
   "metadata": {},
   "outputs": [
    {
     "data": {
      "text/plain": [
       "<AxesSubplot:xlabel='year_built', ylabel='tax_value'>"
      ]
     },
     "execution_count": 78,
     "metadata": {},
     "output_type": "execute_result"
    },
    {
     "data": {
      "image/png": "[encoded data removed]",
      "text/plain": [
       "<Figure size 640x480 with 1 Axes>"
      ]
     },
     "metadata": {},
     "output_type": "display_data"
    }
   ],
   "source": [
    "sns.scatterplot(x='year_built', y='tax_value', hue='bedrooms', data=train)\n"
   ]
  },
  {
   "cell_type": "code",
   "execution_count": 20,
   "id": "78a8890a",
   "metadata": {},
   "outputs": [
    {
     "ename": "SyntaxError",
     "evalue": "invalid character '‘' (U+2018) (3856116812.py, line 2)",
     "output_type": "error",
     "traceback": [
      "\u001b[0;36m  Input \u001b[0;32mIn [20]\u001b[0;36m\u001b[0m\n\u001b[0;31m    bplot = sns.barplot(x=‘model’,y=‘rmse’, data=rmse_df.sort_values(‘rmse’))\u001b[0m\n\u001b[0m                          ^\u001b[0m\n\u001b[0;31mSyntaxError\u001b[0m\u001b[0;31m:\u001b[0m invalid character '‘' (U+2018)\n"
     ]
    }
   ],
   "source": [
    "fig, ax = plt.subplots(figsize=(10,7))\n",
    "bplot = sns.barplot(x=‘model’,y=‘rmse’, data=rmse_df.sort_values(‘rmse’))\n",
    "plt.ylabel(‘RMSE’)\n",
    "plt.xlabel(‘Model’)\n",
    "plt.title(‘RMSE for Each Tested Model’)\n",
    "plt.ylim(0, 250000)\n",
    "ax.bar_label(bplot.containers[0], padding= 6)"
   ]
  },
  {
   "cell_type": "code",
   "execution_count": 73,
   "id": "87bf60de",
   "metadata": {
    "scrolled": false
   },
   "outputs": [
    {
     "data": {
      "image/png": "[encoded data removed]",
      "text/plain": [
       "<Figure size 700x600 with 1 Axes>"
      ]
     },
     "metadata": {},
     "output_type": "display_data"
    }
   ],
   "source": [
    "fig, ax = plt.subplots(figsize=(7,6))\n",
    "bplot = sns.barplot(x='bedrooms', y='tax_value', data=train)\n",
    "ax.bar_label(bplot.containers[0], padding= 6)\n",
    "plt.show()"
   ]
  },
  {
   "cell_type": "markdown",
   "id": "a91ca2d9",
   "metadata": {},
   "source": [
    "q3 - Does year built have a relationship with the square feet of the house? spearmanr test\n"
   ]
  },
  {
   "cell_type": "code",
   "execution_count": 46,
   "id": "6b737da1",
   "metadata": {
    "scrolled": false
   },
   "outputs": [
    {
     "data": {
      "text/plain": [
       "<AxesSubplot:xlabel='year_built', ylabel='sqft'>"
      ]
     },
     "execution_count": 46,
     "metadata": {},
     "output_type": "execute_result"
    },
    {
     "data": {
      "image/png": "[encoded data removed]",
      "text/plain": [
       "<Figure size 640x480 with 1 Axes>"
      ]
     },
     "metadata": {},
     "output_type": "display_data"
    }
   ],
   "source": [
    "sns.regplot(x='year_built', y='sqft', data=train.sample(2000), line_kws={'color':'firebrick'})"
   ]
  },
  {
   "cell_type": "code",
   "execution_count": 49,
   "id": "79879dc6",
   "metadata": {},
   "outputs": [],
   "source": [
    "cols = ['bedrooms', 'bathrooms', 'sqft', 'year_built', 'fips']"
   ]
  },
  {
   "cell_type": "code",
   "execution_count": 55,
   "id": "8c6ff9e5",
   "metadata": {},
   "outputs": [
    {
     "data": {
      "text/plain": [
       "<AxesSubplot:>"
      ]
     },
     "execution_count": 55,
     "metadata": {},
     "output_type": "execute_result"
    },
    {
     "data": {
      "image/png": "[encoded data removed]",
      "text/plain": [
       "<Figure size 640x480 with 2 Axes>"
      ]
     },
     "metadata": {},
     "output_type": "display_data"
    }
   ],
   "source": [
    "train_corr = train[cols].corr(method='spearman')\n",
    "mask = np.zeros_like(train_corr)\n",
    "mask[np.triu_indices_from(mask)] = True\n",
    "sns.heatmap(train_corr, annot=True, mask=mask)"
   ]
  },
  {
   "cell_type": "code",
   "execution_count": 63,
   "id": "b75692ca",
   "metadata": {},
   "outputs": [
    {
     "data": {
      "text/plain": [
       "<AxesSubplot:xlabel='bedrooms', ylabel='count'>"
      ]
     },
     "execution_count": 63,
     "metadata": {},
     "output_type": "execute_result"
    },
    {
     "data": {
      "image/png": "[encoded data removed]",
      "text/plain": [
       "<Figure size 640x480 with 1 Axes>"
      ]
     },
     "metadata": {},
     "output_type": "display_data"
    }
   ],
   "source": [
    "sns.countplot(x='bedrooms', hue='bathrooms', data=train, palette='deep')"
   ]
  },
  {
   "cell_type": "code",
   "execution_count": 20,
   "id": "4b2c5bd8",
   "metadata": {},
   "outputs": [],
   "source": [
    "alpha = .05"
   ]
  },
  {
   "cell_type": "code",
   "execution_count": 21,
   "id": "28d2857d",
   "metadata": {},
   "outputs": [
    {
     "data": {
      "text/plain": [
       "(0.4770610987323474, 0.0)"
      ]
     },
     "execution_count": 21,
     "metadata": {},
     "output_type": "execute_result"
    }
   ],
   "source": [
    "corr, p = stats.pearsonr(train['sqft'], train['yearbuilt'])\n",
    "\n",
    "corr, p"
   ]
  },
  {
   "cell_type": "markdown",
   "id": "09473b33",
   "metadata": {},
   "source": [
    "q4 - Does fips have a relationship with the square feet? chi2 test\n"
   ]
  },
  {
   "cell_type": "code",
   "execution_count": 22,
   "id": "9e203e53",
   "metadata": {},
   "outputs": [
    {
     "data": {
      "image/png": "[encoded data removed]",
      "text/plain": [
       "<Figure size 640x480 with 1 Axes>"
      ]
     },
     "metadata": {},
     "output_type": "display_data"
    }
   ],
   "source": [
    "sns.barplot(x='fips', y='sqft', data=train)\n",
    "\n",
    "plt.show()"
   ]
  },
  {
   "cell_type": "code",
   "execution_count": 23,
   "id": "5a557abf",
   "metadata": {},
   "outputs": [],
   "source": [
    "alpha = .05"
   ]
  },
  {
   "cell_type": "code",
   "execution_count": 24,
   "id": "9cd0e10c",
   "metadata": {},
   "outputs": [
    {
     "data": {
      "text/plain": [
       "(880664976.0, 0.0)"
      ]
     },
     "execution_count": 24,
     "metadata": {},
     "output_type": "execute_result"
    }
   ],
   "source": [
    "statistic, p = stats.mannwhitneyu(train['fips'], train['sqft'])\n",
    "statistic, p"
   ]
  },
  {
   "cell_type": "code",
   "execution_count": 25,
   "id": "5303b4f7",
   "metadata": {
    "scrolled": true
   },
   "outputs": [
    {
     "data": {
      "text/plain": [
       "(1053.2677739122134, 0.0)"
      ]
     },
     "execution_count": 25,
     "metadata": {},
     "output_type": "execute_result"
    }
   ],
   "source": [
    "t, p = stats.ttest_ind(train['fips'], train['sqft'], equal_var=False)\n",
    "t, p "
   ]
  },
  {
   "cell_type": "markdown",
   "id": "2daf583d",
   "metadata": {},
   "source": [
    "I ended up running an independent t-test and a mann whitney u test to confirm a relationship, and it does seem like there is a relationship between fips and square feet."
   ]
  },
  {
   "cell_type": "markdown",
   "id": "1b6a6130",
   "metadata": {},
   "source": [
    "q5 - Is there a relationship between bathrooms and fips?\n"
   ]
  },
  {
   "cell_type": "code",
   "execution_count": 26,
   "id": "c7eccfbd",
   "metadata": {},
   "outputs": [
    {
     "data": {
      "image/png": "[encoded data removed]",
      "text/plain": [
       "<Figure size 640x480 with 1 Axes>"
      ]
     },
     "metadata": {},
     "output_type": "display_data"
    }
   ],
   "source": [
    "sns.barplot(x='fips', y='bathrooms', data=train)\n",
    "\n",
    "plt.show()"
   ]
  },
  {
   "cell_type": "code",
   "execution_count": 27,
   "id": "35c58351",
   "metadata": {},
   "outputs": [
    {
     "name": "stdout",
     "output_type": "stream",
     "text": [
      "Observed Values\n",
      "\n",
      "[[    2  5595     0 10209     0  4665     0   884     0   240]\n",
      " [    0   524   391  3259  1709  1518   312   181   165    22]]\n",
      "---\n",
      "Expected Values\n",
      "\n",
      "[[   1 4452  284 9800 1243 4499  227  774  120  190]\n",
      " [   0 1666  106 3667  465 1683   84  290   44   71]]\n",
      "---\n",
      "\n",
      "chi^2 = 8151.4849\n",
      "p     = 0.0000\n",
      "Is p-value < alpha? True\n"
     ]
    },
    {
     "ename": "TypeError",
     "evalue": "cannot unpack non-iterable NoneType object",
     "output_type": "error",
     "traceback": [
      "\u001b[0;31m---------------------------------------------------------------------------\u001b[0m",
      "\u001b[0;31mTypeError\u001b[0m                                 Traceback (most recent call last)",
      "Input \u001b[0;32mIn [27]\u001b[0m, in \u001b[0;36m<cell line: 1>\u001b[0;34m()\u001b[0m\n\u001b[0;32m----> 1\u001b[0m chi2, p \u001b[38;5;241m=\u001b[39m explore\u001b[38;5;241m.\u001b[39mchi2_report(train, \u001b[38;5;124m'\u001b[39m\u001b[38;5;124mfips\u001b[39m\u001b[38;5;124m'\u001b[39m, \u001b[38;5;124m'\u001b[39m\u001b[38;5;124mbathrooms\u001b[39m\u001b[38;5;124m'\u001b[39m)\n",
      "\u001b[0;31mTypeError\u001b[0m: cannot unpack non-iterable NoneType object"
     ]
    }
   ],
   "source": [
    "chi2, p = explore.chi2_report(train, 'fips', 'bathrooms')"
   ]
  },
  {
   "cell_type": "markdown",
   "id": "aeb6524f",
   "metadata": {},
   "source": [
    "There does seem to be something of a relationship between fips and number of bathrooms in homes"
   ]
  },
  {
   "cell_type": "markdown",
   "id": "d63333b0",
   "metadata": {},
   "source": [
    "# Feature engineering"
   ]
  },
  {
   "cell_type": "code",
   "execution_count": 41,
   "id": "9361b9bc",
   "metadata": {
    "scrolled": true
   },
   "outputs": [
    {
     "data": {
      "text/plain": [
       "((29676, 6), (9892, 6), (9892, 6))"
      ]
     },
     "execution_count": 41,
     "metadata": {},
     "output_type": "execute_result"
    }
   ],
   "source": [
    "train.shape, validate.shape, test.shape"
   ]
  },
  {
   "cell_type": "code",
   "execution_count": 43,
   "id": "3714c7b8",
   "metadata": {},
   "outputs": [],
   "source": [
    "X_train, y_train, X_validate, y_validate, X_test, y_test = model.xy_subsets(train, validate, test, 'tax_value')"
   ]
  },
  {
   "cell_type": "code",
   "execution_count": 44,
   "id": "096d972b",
   "metadata": {},
   "outputs": [
    {
     "data": {
      "text/html": [
       "<div>\n",
       "<style scoped>\n",
       "    .dataframe tbody tr th:only-of-type {\n",
       "        vertical-align: middle;\n",
       "    }\n",
       "\n",
       "    .dataframe tbody tr th {\n",
       "        vertical-align: top;\n",
       "    }\n",
       "\n",
       "    .dataframe thead th {\n",
       "        text-align: right;\n",
       "    }\n",
       "</style>\n",
       "<table border=\"1\" class=\"dataframe\">\n",
       "  <thead>\n",
       "    <tr style=\"text-align: right;\">\n",
       "      <th></th>\n",
       "      <th>bedrooms</th>\n",
       "      <th>bathrooms</th>\n",
       "      <th>sqft</th>\n",
       "      <th>yearbuilt</th>\n",
       "      <th>fips</th>\n",
       "    </tr>\n",
       "  </thead>\n",
       "  <tbody>\n",
       "    <tr>\n",
       "      <th>42956</th>\n",
       "      <td>4.0</td>\n",
       "      <td>3.0</td>\n",
       "      <td>3023.0</td>\n",
       "      <td>2005.0</td>\n",
       "      <td>6037.0</td>\n",
       "    </tr>\n",
       "    <tr>\n",
       "      <th>32660</th>\n",
       "      <td>3.0</td>\n",
       "      <td>3.5</td>\n",
       "      <td>2319.0</td>\n",
       "      <td>1987.0</td>\n",
       "      <td>6059.0</td>\n",
       "    </tr>\n",
       "    <tr>\n",
       "      <th>38800</th>\n",
       "      <td>3.0</td>\n",
       "      <td>3.0</td>\n",
       "      <td>2269.0</td>\n",
       "      <td>1927.0</td>\n",
       "      <td>6037.0</td>\n",
       "    </tr>\n",
       "    <tr>\n",
       "      <th>35939</th>\n",
       "      <td>3.0</td>\n",
       "      <td>2.0</td>\n",
       "      <td>1710.0</td>\n",
       "      <td>1965.0</td>\n",
       "      <td>6037.0</td>\n",
       "    </tr>\n",
       "    <tr>\n",
       "      <th>33312</th>\n",
       "      <td>3.0</td>\n",
       "      <td>2.5</td>\n",
       "      <td>1997.0</td>\n",
       "      <td>1992.0</td>\n",
       "      <td>6059.0</td>\n",
       "    </tr>\n",
       "    <tr>\n",
       "      <th>...</th>\n",
       "      <td>...</td>\n",
       "      <td>...</td>\n",
       "      <td>...</td>\n",
       "      <td>...</td>\n",
       "      <td>...</td>\n",
       "    </tr>\n",
       "    <tr>\n",
       "      <th>13282</th>\n",
       "      <td>2.0</td>\n",
       "      <td>1.0</td>\n",
       "      <td>1610.0</td>\n",
       "      <td>1911.0</td>\n",
       "      <td>6037.0</td>\n",
       "    </tr>\n",
       "    <tr>\n",
       "      <th>50350</th>\n",
       "      <td>3.0</td>\n",
       "      <td>2.5</td>\n",
       "      <td>1669.0</td>\n",
       "      <td>1954.0</td>\n",
       "      <td>6059.0</td>\n",
       "    </tr>\n",
       "    <tr>\n",
       "      <th>43615</th>\n",
       "      <td>3.0</td>\n",
       "      <td>2.5</td>\n",
       "      <td>1266.0</td>\n",
       "      <td>1990.0</td>\n",
       "      <td>6059.0</td>\n",
       "    </tr>\n",
       "    <tr>\n",
       "      <th>882</th>\n",
       "      <td>3.0</td>\n",
       "      <td>2.0</td>\n",
       "      <td>1850.0</td>\n",
       "      <td>1958.0</td>\n",
       "      <td>6037.0</td>\n",
       "    </tr>\n",
       "    <tr>\n",
       "      <th>17939</th>\n",
       "      <td>4.0</td>\n",
       "      <td>2.0</td>\n",
       "      <td>1400.0</td>\n",
       "      <td>1971.0</td>\n",
       "      <td>6059.0</td>\n",
       "    </tr>\n",
       "  </tbody>\n",
       "</table>\n",
       "<p>29676 rows × 5 columns</p>\n",
       "</div>"
      ],
      "text/plain": [
       "       bedrooms  bathrooms    sqft  yearbuilt    fips\n",
       "42956       4.0        3.0  3023.0     2005.0  6037.0\n",
       "32660       3.0        3.5  2319.0     1987.0  6059.0\n",
       "38800       3.0        3.0  2269.0     1927.0  6037.0\n",
       "35939       3.0        2.0  1710.0     1965.0  6037.0\n",
       "33312       3.0        2.5  1997.0     1992.0  6059.0\n",
       "...         ...        ...     ...        ...     ...\n",
       "13282       2.0        1.0  1610.0     1911.0  6037.0\n",
       "50350       3.0        2.5  1669.0     1954.0  6059.0\n",
       "43615       3.0        2.5  1266.0     1990.0  6059.0\n",
       "882         3.0        2.0  1850.0     1958.0  6037.0\n",
       "17939       4.0        2.0  1400.0     1971.0  6059.0\n",
       "\n",
       "[29676 rows x 5 columns]"
      ]
     },
     "execution_count": 44,
     "metadata": {},
     "output_type": "execute_result"
    }
   ],
   "source": [
    "X_train"
   ]
  },
  {
   "cell_type": "code",
   "execution_count": 49,
   "id": "28428feb",
   "metadata": {},
   "outputs": [],
   "source": [
    "cols = ['sqft', 'yearbuilt']\n",
    "\n",
    "X_train_scaled, X_validate_scaled, X_test_scaled = prepare.scale_data(X_train, X_validate, X_test, MinMaxScaler(), cols)"
   ]
  },
  {
   "cell_type": "code",
   "execution_count": 53,
   "id": "43d2031c",
   "metadata": {},
   "outputs": [],
   "source": [
    "X_train_scaled = pd.get_dummies(X_train_scaled, columns=['bedrooms', 'bathrooms', 'fips'])"
   ]
  },
  {
   "cell_type": "code",
   "execution_count": 54,
   "id": "92cfe90d",
   "metadata": {},
   "outputs": [
    {
     "data": {
      "text/html": [
       "<div>\n",
       "<style scoped>\n",
       "    .dataframe tbody tr th:only-of-type {\n",
       "        vertical-align: middle;\n",
       "    }\n",
       "\n",
       "    .dataframe tbody tr th {\n",
       "        vertical-align: top;\n",
       "    }\n",
       "\n",
       "    .dataframe thead th {\n",
       "        text-align: right;\n",
       "    }\n",
       "</style>\n",
       "<table border=\"1\" class=\"dataframe\">\n",
       "  <thead>\n",
       "    <tr style=\"text-align: right;\">\n",
       "      <th></th>\n",
       "      <th>sqft</th>\n",
       "      <th>yearbuilt</th>\n",
       "      <th>bedrooms_1.0</th>\n",
       "      <th>bedrooms_2.0</th>\n",
       "      <th>bedrooms_3.0</th>\n",
       "      <th>bedrooms_4.0</th>\n",
       "      <th>bedrooms_5.0</th>\n",
       "      <th>bedrooms_6.0</th>\n",
       "      <th>bathrooms_0.0</th>\n",
       "      <th>bathrooms_1.0</th>\n",
       "      <th>bathrooms_1.5</th>\n",
       "      <th>bathrooms_2.0</th>\n",
       "      <th>bathrooms_2.5</th>\n",
       "      <th>bathrooms_3.0</th>\n",
       "      <th>bathrooms_3.5</th>\n",
       "      <th>bathrooms_4.0</th>\n",
       "      <th>bathrooms_4.5</th>\n",
       "      <th>bathrooms_5.0</th>\n",
       "      <th>fips_6037.0</th>\n",
       "      <th>fips_6059.0</th>\n",
       "    </tr>\n",
       "  </thead>\n",
       "  <tbody>\n",
       "    <tr>\n",
       "      <th>42956</th>\n",
       "      <td>0.684824</td>\n",
       "      <td>0.910569</td>\n",
       "      <td>0</td>\n",
       "      <td>0</td>\n",
       "      <td>0</td>\n",
       "      <td>1</td>\n",
       "      <td>0</td>\n",
       "      <td>0</td>\n",
       "      <td>0</td>\n",
       "      <td>0</td>\n",
       "      <td>0</td>\n",
       "      <td>0</td>\n",
       "      <td>0</td>\n",
       "      <td>1</td>\n",
       "      <td>0</td>\n",
       "      <td>0</td>\n",
       "      <td>0</td>\n",
       "      <td>0</td>\n",
       "      <td>1</td>\n",
       "      <td>0</td>\n",
       "    </tr>\n",
       "    <tr>\n",
       "      <th>32660</th>\n",
       "      <td>0.506461</td>\n",
       "      <td>0.764228</td>\n",
       "      <td>0</td>\n",
       "      <td>0</td>\n",
       "      <td>1</td>\n",
       "      <td>0</td>\n",
       "      <td>0</td>\n",
       "      <td>0</td>\n",
       "      <td>0</td>\n",
       "      <td>0</td>\n",
       "      <td>0</td>\n",
       "      <td>0</td>\n",
       "      <td>0</td>\n",
       "      <td>0</td>\n",
       "      <td>1</td>\n",
       "      <td>0</td>\n",
       "      <td>0</td>\n",
       "      <td>0</td>\n",
       "      <td>0</td>\n",
       "      <td>1</td>\n",
       "    </tr>\n",
       "    <tr>\n",
       "      <th>38800</th>\n",
       "      <td>0.493793</td>\n",
       "      <td>0.276423</td>\n",
       "      <td>0</td>\n",
       "      <td>0</td>\n",
       "      <td>1</td>\n",
       "      <td>0</td>\n",
       "      <td>0</td>\n",
       "      <td>0</td>\n",
       "      <td>0</td>\n",
       "      <td>0</td>\n",
       "      <td>0</td>\n",
       "      <td>0</td>\n",
       "      <td>0</td>\n",
       "      <td>1</td>\n",
       "      <td>0</td>\n",
       "      <td>0</td>\n",
       "      <td>0</td>\n",
       "      <td>0</td>\n",
       "      <td>1</td>\n",
       "      <td>0</td>\n",
       "    </tr>\n",
       "    <tr>\n",
       "      <th>35939</th>\n",
       "      <td>0.352166</td>\n",
       "      <td>0.585366</td>\n",
       "      <td>0</td>\n",
       "      <td>0</td>\n",
       "      <td>1</td>\n",
       "      <td>0</td>\n",
       "      <td>0</td>\n",
       "      <td>0</td>\n",
       "      <td>0</td>\n",
       "      <td>0</td>\n",
       "      <td>0</td>\n",
       "      <td>1</td>\n",
       "      <td>0</td>\n",
       "      <td>0</td>\n",
       "      <td>0</td>\n",
       "      <td>0</td>\n",
       "      <td>0</td>\n",
       "      <td>0</td>\n",
       "      <td>1</td>\n",
       "      <td>0</td>\n",
       "    </tr>\n",
       "    <tr>\n",
       "      <th>33312</th>\n",
       "      <td>0.424880</td>\n",
       "      <td>0.804878</td>\n",
       "      <td>0</td>\n",
       "      <td>0</td>\n",
       "      <td>1</td>\n",
       "      <td>0</td>\n",
       "      <td>0</td>\n",
       "      <td>0</td>\n",
       "      <td>0</td>\n",
       "      <td>0</td>\n",
       "      <td>0</td>\n",
       "      <td>0</td>\n",
       "      <td>1</td>\n",
       "      <td>0</td>\n",
       "      <td>0</td>\n",
       "      <td>0</td>\n",
       "      <td>0</td>\n",
       "      <td>0</td>\n",
       "      <td>0</td>\n",
       "      <td>1</td>\n",
       "    </tr>\n",
       "    <tr>\n",
       "      <th>...</th>\n",
       "      <td>...</td>\n",
       "      <td>...</td>\n",
       "      <td>...</td>\n",
       "      <td>...</td>\n",
       "      <td>...</td>\n",
       "      <td>...</td>\n",
       "      <td>...</td>\n",
       "      <td>...</td>\n",
       "      <td>...</td>\n",
       "      <td>...</td>\n",
       "      <td>...</td>\n",
       "      <td>...</td>\n",
       "      <td>...</td>\n",
       "      <td>...</td>\n",
       "      <td>...</td>\n",
       "      <td>...</td>\n",
       "      <td>...</td>\n",
       "      <td>...</td>\n",
       "      <td>...</td>\n",
       "      <td>...</td>\n",
       "    </tr>\n",
       "    <tr>\n",
       "      <th>13282</th>\n",
       "      <td>0.326831</td>\n",
       "      <td>0.146341</td>\n",
       "      <td>0</td>\n",
       "      <td>1</td>\n",
       "      <td>0</td>\n",
       "      <td>0</td>\n",
       "      <td>0</td>\n",
       "      <td>0</td>\n",
       "      <td>0</td>\n",
       "      <td>1</td>\n",
       "      <td>0</td>\n",
       "      <td>0</td>\n",
       "      <td>0</td>\n",
       "      <td>0</td>\n",
       "      <td>0</td>\n",
       "      <td>0</td>\n",
       "      <td>0</td>\n",
       "      <td>0</td>\n",
       "      <td>1</td>\n",
       "      <td>0</td>\n",
       "    </tr>\n",
       "    <tr>\n",
       "      <th>50350</th>\n",
       "      <td>0.341779</td>\n",
       "      <td>0.495935</td>\n",
       "      <td>0</td>\n",
       "      <td>0</td>\n",
       "      <td>1</td>\n",
       "      <td>0</td>\n",
       "      <td>0</td>\n",
       "      <td>0</td>\n",
       "      <td>0</td>\n",
       "      <td>0</td>\n",
       "      <td>0</td>\n",
       "      <td>0</td>\n",
       "      <td>1</td>\n",
       "      <td>0</td>\n",
       "      <td>0</td>\n",
       "      <td>0</td>\n",
       "      <td>0</td>\n",
       "      <td>0</td>\n",
       "      <td>0</td>\n",
       "      <td>1</td>\n",
       "    </tr>\n",
       "    <tr>\n",
       "      <th>43615</th>\n",
       "      <td>0.239676</td>\n",
       "      <td>0.788618</td>\n",
       "      <td>0</td>\n",
       "      <td>0</td>\n",
       "      <td>1</td>\n",
       "      <td>0</td>\n",
       "      <td>0</td>\n",
       "      <td>0</td>\n",
       "      <td>0</td>\n",
       "      <td>0</td>\n",
       "      <td>0</td>\n",
       "      <td>0</td>\n",
       "      <td>1</td>\n",
       "      <td>0</td>\n",
       "      <td>0</td>\n",
       "      <td>0</td>\n",
       "      <td>0</td>\n",
       "      <td>0</td>\n",
       "      <td>0</td>\n",
       "      <td>1</td>\n",
       "    </tr>\n",
       "    <tr>\n",
       "      <th>882</th>\n",
       "      <td>0.387636</td>\n",
       "      <td>0.528455</td>\n",
       "      <td>0</td>\n",
       "      <td>0</td>\n",
       "      <td>1</td>\n",
       "      <td>0</td>\n",
       "      <td>0</td>\n",
       "      <td>0</td>\n",
       "      <td>0</td>\n",
       "      <td>0</td>\n",
       "      <td>0</td>\n",
       "      <td>1</td>\n",
       "      <td>0</td>\n",
       "      <td>0</td>\n",
       "      <td>0</td>\n",
       "      <td>0</td>\n",
       "      <td>0</td>\n",
       "      <td>0</td>\n",
       "      <td>1</td>\n",
       "      <td>0</td>\n",
       "    </tr>\n",
       "    <tr>\n",
       "      <th>17939</th>\n",
       "      <td>0.273626</td>\n",
       "      <td>0.634146</td>\n",
       "      <td>0</td>\n",
       "      <td>0</td>\n",
       "      <td>0</td>\n",
       "      <td>1</td>\n",
       "      <td>0</td>\n",
       "      <td>0</td>\n",
       "      <td>0</td>\n",
       "      <td>0</td>\n",
       "      <td>0</td>\n",
       "      <td>1</td>\n",
       "      <td>0</td>\n",
       "      <td>0</td>\n",
       "      <td>0</td>\n",
       "      <td>0</td>\n",
       "      <td>0</td>\n",
       "      <td>0</td>\n",
       "      <td>0</td>\n",
       "      <td>1</td>\n",
       "    </tr>\n",
       "  </tbody>\n",
       "</table>\n",
       "<p>29676 rows × 20 columns</p>\n",
       "</div>"
      ],
      "text/plain": [
       "           sqft  yearbuilt  bedrooms_1.0  bedrooms_2.0  bedrooms_3.0  \\\n",
       "42956  0.684824   0.910569             0             0             0   \n",
       "32660  0.506461   0.764228             0             0             1   \n",
       "38800  0.493793   0.276423             0             0             1   \n",
       "35939  0.352166   0.585366             0             0             1   \n",
       "33312  0.424880   0.804878             0             0             1   \n",
       "...         ...        ...           ...           ...           ...   \n",
       "13282  0.326831   0.146341             0             1             0   \n",
       "50350  0.341779   0.495935             0             0             1   \n",
       "43615  0.239676   0.788618             0             0             1   \n",
       "882    0.387636   0.528455             0             0             1   \n",
       "17939  0.273626   0.634146             0             0             0   \n",
       "\n",
       "       bedrooms_4.0  bedrooms_5.0  bedrooms_6.0  bathrooms_0.0  bathrooms_1.0  \\\n",
       "42956             1             0             0              0              0   \n",
       "32660             0             0             0              0              0   \n",
       "38800             0             0             0              0              0   \n",
       "35939             0             0             0              0              0   \n",
       "33312             0             0             0              0              0   \n",
       "...             ...           ...           ...            ...            ...   \n",
       "13282             0             0             0              0              1   \n",
       "50350             0             0             0              0              0   \n",
       "43615             0             0             0              0              0   \n",
       "882               0             0             0              0              0   \n",
       "17939             1             0             0              0              0   \n",
       "\n",
       "       bathrooms_1.5  bathrooms_2.0  bathrooms_2.5  bathrooms_3.0  \\\n",
       "42956              0              0              0              1   \n",
       "32660              0              0              0              0   \n",
       "38800              0              0              0              1   \n",
       "35939              0              1              0              0   \n",
       "33312              0              0              1              0   \n",
       "...              ...            ...            ...            ...   \n",
       "13282              0              0              0              0   \n",
       "50350              0              0              1              0   \n",
       "43615              0              0              1              0   \n",
       "882                0              1              0              0   \n",
       "17939              0              1              0              0   \n",
       "\n",
       "       bathrooms_3.5  bathrooms_4.0  bathrooms_4.5  bathrooms_5.0  \\\n",
       "42956              0              0              0              0   \n",
       "32660              1              0              0              0   \n",
       "38800              0              0              0              0   \n",
       "35939              0              0              0              0   \n",
       "33312              0              0              0              0   \n",
       "...              ...            ...            ...            ...   \n",
       "13282              0              0              0              0   \n",
       "50350              0              0              0              0   \n",
       "43615              0              0              0              0   \n",
       "882                0              0              0              0   \n",
       "17939              0              0              0              0   \n",
       "\n",
       "       fips_6037.0  fips_6059.0  \n",
       "42956            1            0  \n",
       "32660            0            1  \n",
       "38800            1            0  \n",
       "35939            1            0  \n",
       "33312            0            1  \n",
       "...            ...          ...  \n",
       "13282            1            0  \n",
       "50350            0            1  \n",
       "43615            0            1  \n",
       "882              1            0  \n",
       "17939            0            1  \n",
       "\n",
       "[29676 rows x 20 columns]"
      ]
     },
     "execution_count": 54,
     "metadata": {},
     "output_type": "execute_result"
    }
   ],
   "source": [
    "X_train_scaled"
   ]
  },
  {
   "cell_type": "markdown",
   "id": "209a7a26",
   "metadata": {},
   "source": [
    "# modeling"
   ]
  },
  {
   "cell_type": "markdown",
   "id": "70262f25",
   "metadata": {},
   "source": [
    "## basic linear regression model"
   ]
  },
  {
   "cell_type": "code",
   "execution_count": 55,
   "id": "d7ab87c7",
   "metadata": {},
   "outputs": [],
   "source": [
    "lm = LinearRegression()\n",
    "\n",
    "lm.fit(X_train_scaled, y_train)\n",
    "\n",
    "lm_preds = lm.predict(X_train_scaled)\n",
    "\n",
    "preds_df = pd.DataFrame({'actual': y_train,\n",
    "                         'lm_preds': lm_preds})"
   ]
  },
  {
   "cell_type": "code",
   "execution_count": 59,
   "id": "37ad590a",
   "metadata": {},
   "outputs": [],
   "source": [
    "preds_df['baseline_avg'] = y_train.mean()"
   ]
  },
  {
   "cell_type": "code",
   "execution_count": 57,
   "id": "ec2679f1",
   "metadata": {},
   "outputs": [
    {
     "data": {
      "text/plain": [
       "405333.88847892865"
      ]
     },
     "execution_count": 57,
     "metadata": {},
     "output_type": "execute_result"
    }
   ],
   "source": [
    "sqrt(mean_squared_error(preds_df['actual'], preds_df['baseline_avg']))"
   ]
  },
  {
   "cell_type": "code",
   "execution_count": 62,
   "id": "1e5d7886",
   "metadata": {},
   "outputs": [],
   "source": [
    "preds_df = preds_df.drop(columns=['baseline_median'])"
   ]
  },
  {
   "cell_type": "code",
   "execution_count": 63,
   "id": "26d41758",
   "metadata": {},
   "outputs": [
    {
     "data": {
      "text/html": [
       "<div>\n",
       "<style scoped>\n",
       "    .dataframe tbody tr th:only-of-type {\n",
       "        vertical-align: middle;\n",
       "    }\n",
       "\n",
       "    .dataframe tbody tr th {\n",
       "        vertical-align: top;\n",
       "    }\n",
       "\n",
       "    .dataframe thead th {\n",
       "        text-align: right;\n",
       "    }\n",
       "</style>\n",
       "<table border=\"1\" class=\"dataframe\">\n",
       "  <thead>\n",
       "    <tr style=\"text-align: right;\">\n",
       "      <th></th>\n",
       "      <th>actual</th>\n",
       "      <th>lm_preds</th>\n",
       "      <th>baseline_avg</th>\n",
       "    </tr>\n",
       "  </thead>\n",
       "  <tbody>\n",
       "    <tr>\n",
       "      <th>42956</th>\n",
       "      <td>386000.0</td>\n",
       "      <td>661536.0</td>\n",
       "      <td>408646.073965</td>\n",
       "    </tr>\n",
       "    <tr>\n",
       "      <th>32660</th>\n",
       "      <td>557838.0</td>\n",
       "      <td>831120.0</td>\n",
       "      <td>408646.073965</td>\n",
       "    </tr>\n",
       "    <tr>\n",
       "      <th>38800</th>\n",
       "      <td>954293.0</td>\n",
       "      <td>608736.0</td>\n",
       "      <td>408646.073965</td>\n",
       "    </tr>\n",
       "    <tr>\n",
       "      <th>35939</th>\n",
       "      <td>375081.0</td>\n",
       "      <td>370528.0</td>\n",
       "      <td>408646.073965</td>\n",
       "    </tr>\n",
       "    <tr>\n",
       "      <th>33312</th>\n",
       "      <td>685293.0</td>\n",
       "      <td>490192.0</td>\n",
       "      <td>408646.073965</td>\n",
       "    </tr>\n",
       "    <tr>\n",
       "      <th>...</th>\n",
       "      <td>...</td>\n",
       "      <td>...</td>\n",
       "      <td>...</td>\n",
       "    </tr>\n",
       "    <tr>\n",
       "      <th>13282</th>\n",
       "      <td>340909.0</td>\n",
       "      <td>445760.0</td>\n",
       "      <td>408646.073965</td>\n",
       "    </tr>\n",
       "    <tr>\n",
       "      <th>50350</th>\n",
       "      <td>105389.0</td>\n",
       "      <td>444176.0</td>\n",
       "      <td>408646.073965</td>\n",
       "    </tr>\n",
       "    <tr>\n",
       "      <th>43615</th>\n",
       "      <td>585076.0</td>\n",
       "      <td>291472.0</td>\n",
       "      <td>408646.073965</td>\n",
       "    </tr>\n",
       "    <tr>\n",
       "      <th>882</th>\n",
       "      <td>604381.0</td>\n",
       "      <td>417120.0</td>\n",
       "      <td>408646.073965</td>\n",
       "    </tr>\n",
       "    <tr>\n",
       "      <th>17939</th>\n",
       "      <td>377569.0</td>\n",
       "      <td>256656.0</td>\n",
       "      <td>408646.073965</td>\n",
       "    </tr>\n",
       "  </tbody>\n",
       "</table>\n",
       "<p>29676 rows × 3 columns</p>\n",
       "</div>"
      ],
      "text/plain": [
       "         actual  lm_preds   baseline_avg\n",
       "42956  386000.0  661536.0  408646.073965\n",
       "32660  557838.0  831120.0  408646.073965\n",
       "38800  954293.0  608736.0  408646.073965\n",
       "35939  375081.0  370528.0  408646.073965\n",
       "33312  685293.0  490192.0  408646.073965\n",
       "...         ...       ...            ...\n",
       "13282  340909.0  445760.0  408646.073965\n",
       "50350  105389.0  444176.0  408646.073965\n",
       "43615  585076.0  291472.0  408646.073965\n",
       "882    604381.0  417120.0  408646.073965\n",
       "17939  377569.0  256656.0  408646.073965\n",
       "\n",
       "[29676 rows x 3 columns]"
      ]
     },
     "execution_count": 63,
     "metadata": {},
     "output_type": "execute_result"
    }
   ],
   "source": [
    "preds_df"
   ]
  },
  {
   "cell_type": "code",
   "execution_count": 64,
   "id": "1ac90a5b",
   "metadata": {},
   "outputs": [
    {
     "data": {
      "text/plain": [
       "342433.9784365328"
      ]
     },
     "execution_count": 64,
     "metadata": {},
     "output_type": "execute_result"
    }
   ],
   "source": [
    "lm_rmse = sqrt(mean_squared_error(preds_df['lm_preds'], preds_df['actual']))\n",
    "\n",
    "lm_rmse"
   ]
  },
  {
   "cell_type": "markdown",
   "id": "fb1a6b03",
   "metadata": {},
   "source": [
    "## basic lasso-lars model"
   ]
  },
  {
   "cell_type": "code",
   "execution_count": 86,
   "id": "a4682ed9",
   "metadata": {},
   "outputs": [
    {
     "data": {
      "text/html": [
       "<div>\n",
       "<style scoped>\n",
       "    .dataframe tbody tr th:only-of-type {\n",
       "        vertical-align: middle;\n",
       "    }\n",
       "\n",
       "    .dataframe tbody tr th {\n",
       "        vertical-align: top;\n",
       "    }\n",
       "\n",
       "    .dataframe thead th {\n",
       "        text-align: right;\n",
       "    }\n",
       "</style>\n",
       "<table border=\"1\" class=\"dataframe\">\n",
       "  <thead>\n",
       "    <tr style=\"text-align: right;\">\n",
       "      <th></th>\n",
       "      <th>actual</th>\n",
       "      <th>lm_preds</th>\n",
       "      <th>baseline_avg</th>\n",
       "      <th>lasso_preds</th>\n",
       "    </tr>\n",
       "  </thead>\n",
       "  <tbody>\n",
       "    <tr>\n",
       "      <th>42956</th>\n",
       "      <td>386000.0</td>\n",
       "      <td>661536.0</td>\n",
       "      <td>408646.073965</td>\n",
       "      <td>690818.544404</td>\n",
       "    </tr>\n",
       "    <tr>\n",
       "      <th>32660</th>\n",
       "      <td>557838.0</td>\n",
       "      <td>831120.0</td>\n",
       "      <td>408646.073965</td>\n",
       "      <td>737297.854706</td>\n",
       "    </tr>\n",
       "    <tr>\n",
       "      <th>38800</th>\n",
       "      <td>954293.0</td>\n",
       "      <td>608736.0</td>\n",
       "      <td>408646.073965</td>\n",
       "      <td>547023.888315</td>\n",
       "    </tr>\n",
       "    <tr>\n",
       "      <th>35939</th>\n",
       "      <td>375081.0</td>\n",
       "      <td>370528.0</td>\n",
       "      <td>408646.073965</td>\n",
       "      <td>379457.320343</td>\n",
       "    </tr>\n",
       "    <tr>\n",
       "      <th>33312</th>\n",
       "      <td>685293.0</td>\n",
       "      <td>490192.0</td>\n",
       "      <td>408646.073965</td>\n",
       "      <td>476293.752166</td>\n",
       "    </tr>\n",
       "  </tbody>\n",
       "</table>\n",
       "</div>"
      ],
      "text/plain": [
       "         actual  lm_preds   baseline_avg    lasso_preds\n",
       "42956  386000.0  661536.0  408646.073965  690818.544404\n",
       "32660  557838.0  831120.0  408646.073965  737297.854706\n",
       "38800  954293.0  608736.0  408646.073965  547023.888315\n",
       "35939  375081.0  370528.0  408646.073965  379457.320343\n",
       "33312  685293.0  490192.0  408646.073965  476293.752166"
      ]
     },
     "execution_count": 86,
     "metadata": {},
     "output_type": "execute_result"
    }
   ],
   "source": [
    "lasso = LassoLars(alpha=.1)\n",
    "\n",
    "lasso.fit(X_train_scaled, y_train)\n",
    "\n",
    "lasso_preds = lasso.predict(X_train_scaled)\n",
    "\n",
    "preds_df['lasso_preds'] = lasso_preds\n",
    "\n",
    "preds_df.head()"
   ]
  },
  {
   "cell_type": "code",
   "execution_count": 87,
   "id": "c29e7376",
   "metadata": {},
   "outputs": [
    {
     "data": {
      "text/plain": [
       "343857.3180028407"
      ]
     },
     "execution_count": 87,
     "metadata": {},
     "output_type": "execute_result"
    }
   ],
   "source": [
    "lasso_rmse = sqrt(mean_squared_error(preds_df['actual'], preds_df['lasso_preds']))\n",
    "lasso_rmse"
   ]
  },
  {
   "cell_type": "markdown",
   "id": "66daaec8",
   "metadata": {},
   "source": [
    "## polynomial regression"
   ]
  },
  {
   "cell_type": "code",
   "execution_count": 88,
   "id": "49fd7f03",
   "metadata": {},
   "outputs": [],
   "source": [
    "pf = PolynomialFeatures(degree=2)\n",
    "\n",
    "pf.fit(X_train_scaled, y_train)\n",
    "\n",
    "X_polynomial = pf.transform(X_train_scaled)"
   ]
  },
  {
   "cell_type": "markdown",
   "id": "58b5740d",
   "metadata": {},
   "source": [
    "### linear regression with polynomial"
   ]
  },
  {
   "cell_type": "code",
   "execution_count": 89,
   "id": "32c5acac",
   "metadata": {},
   "outputs": [
    {
     "data": {
      "text/html": [
       "<div>\n",
       "<style scoped>\n",
       "    .dataframe tbody tr th:only-of-type {\n",
       "        vertical-align: middle;\n",
       "    }\n",
       "\n",
       "    .dataframe tbody tr th {\n",
       "        vertical-align: top;\n",
       "    }\n",
       "\n",
       "    .dataframe thead th {\n",
       "        text-align: right;\n",
       "    }\n",
       "</style>\n",
       "<table border=\"1\" class=\"dataframe\">\n",
       "  <thead>\n",
       "    <tr style=\"text-align: right;\">\n",
       "      <th></th>\n",
       "      <th>actual</th>\n",
       "      <th>lm_preds</th>\n",
       "      <th>baseline_avg</th>\n",
       "      <th>lasso_preds</th>\n",
       "      <th>poly_preds</th>\n",
       "    </tr>\n",
       "  </thead>\n",
       "  <tbody>\n",
       "    <tr>\n",
       "      <th>42956</th>\n",
       "      <td>386000.0</td>\n",
       "      <td>661536.0</td>\n",
       "      <td>408646.073965</td>\n",
       "      <td>690818.544404</td>\n",
       "      <td>588672.0</td>\n",
       "    </tr>\n",
       "    <tr>\n",
       "      <th>32660</th>\n",
       "      <td>557838.0</td>\n",
       "      <td>831120.0</td>\n",
       "      <td>408646.073965</td>\n",
       "      <td>737297.854706</td>\n",
       "      <td>809216.0</td>\n",
       "    </tr>\n",
       "    <tr>\n",
       "      <th>38800</th>\n",
       "      <td>954293.0</td>\n",
       "      <td>608736.0</td>\n",
       "      <td>408646.073965</td>\n",
       "      <td>547023.888315</td>\n",
       "      <td>649600.0</td>\n",
       "    </tr>\n",
       "    <tr>\n",
       "      <th>35939</th>\n",
       "      <td>375081.0</td>\n",
       "      <td>370528.0</td>\n",
       "      <td>408646.073965</td>\n",
       "      <td>379457.320343</td>\n",
       "      <td>344832.0</td>\n",
       "    </tr>\n",
       "    <tr>\n",
       "      <th>33312</th>\n",
       "      <td>685293.0</td>\n",
       "      <td>490192.0</td>\n",
       "      <td>408646.073965</td>\n",
       "      <td>476293.752166</td>\n",
       "      <td>554752.0</td>\n",
       "    </tr>\n",
       "  </tbody>\n",
       "</table>\n",
       "</div>"
      ],
      "text/plain": [
       "         actual  lm_preds   baseline_avg    lasso_preds  poly_preds\n",
       "42956  386000.0  661536.0  408646.073965  690818.544404    588672.0\n",
       "32660  557838.0  831120.0  408646.073965  737297.854706    809216.0\n",
       "38800  954293.0  608736.0  408646.073965  547023.888315    649600.0\n",
       "35939  375081.0  370528.0  408646.073965  379457.320343    344832.0\n",
       "33312  685293.0  490192.0  408646.073965  476293.752166    554752.0"
      ]
     },
     "execution_count": 89,
     "metadata": {},
     "output_type": "execute_result"
    }
   ],
   "source": [
    "lm2 = LinearRegression()\n",
    "\n",
    "lm2.fit(X_polynomial, y_train)\n",
    "\n",
    "preds_df['poly_preds'] = lm2.predict(X_polynomial)\n",
    "\n",
    "preds_df.head()"
   ]
  },
  {
   "cell_type": "code",
   "execution_count": 90,
   "id": "a8dd7c2f",
   "metadata": {},
   "outputs": [
    {
     "data": {
      "text/plain": [
       "337680.1082911183"
      ]
     },
     "execution_count": 90,
     "metadata": {},
     "output_type": "execute_result"
    }
   ],
   "source": [
    "lm2_rmse = sqrt(mean_squared_error(preds_df['actual'], preds_df['poly_preds']))\n",
    "\n",
    "lm2_rmse"
   ]
  },
  {
   "cell_type": "markdown",
   "id": "c595d4cc",
   "metadata": {},
   "source": [
    "### lasso-lars with polynomial"
   ]
  },
  {
   "cell_type": "code",
   "execution_count": null,
   "id": "76ebfdd2",
   "metadata": {},
   "outputs": [],
   "source": [
    "lasso2 = LassoLars(alpha=.33)\n",
    "\n",
    "lasso2.fit(X_polynomial, y_train)\n",
    "\n",
    "lasso2_preds = lasso2.predict(X_polynomial)\n",
    "\n",
    "preds_df['lasso_poly'] = lasso2_preds"
   ]
  },
  {
   "cell_type": "code",
   "execution_count": 100,
   "id": "f6cc5bd2",
   "metadata": {},
   "outputs": [
    {
     "data": {
      "text/html": [
       "<div>\n",
       "<style scoped>\n",
       "    .dataframe tbody tr th:only-of-type {\n",
       "        vertical-align: middle;\n",
       "    }\n",
       "\n",
       "    .dataframe tbody tr th {\n",
       "        vertical-align: top;\n",
       "    }\n",
       "\n",
       "    .dataframe thead th {\n",
       "        text-align: right;\n",
       "    }\n",
       "</style>\n",
       "<table border=\"1\" class=\"dataframe\">\n",
       "  <thead>\n",
       "    <tr style=\"text-align: right;\">\n",
       "      <th></th>\n",
       "      <th>actual</th>\n",
       "      <th>lm_preds</th>\n",
       "      <th>baseline_avg</th>\n",
       "      <th>lasso_preds</th>\n",
       "      <th>poly_preds</th>\n",
       "      <th>lasso_poly</th>\n",
       "      <th>tweedie_norm_preds</th>\n",
       "    </tr>\n",
       "  </thead>\n",
       "  <tbody>\n",
       "    <tr>\n",
       "      <th>42956</th>\n",
       "      <td>386000.0</td>\n",
       "      <td>661536.0</td>\n",
       "      <td>408646.073965</td>\n",
       "      <td>690818.544404</td>\n",
       "      <td>588672.0</td>\n",
       "      <td>667217.948830</td>\n",
       "      <td>463571.049193</td>\n",
       "    </tr>\n",
       "    <tr>\n",
       "      <th>32660</th>\n",
       "      <td>557838.0</td>\n",
       "      <td>831120.0</td>\n",
       "      <td>408646.073965</td>\n",
       "      <td>737297.854706</td>\n",
       "      <td>809216.0</td>\n",
       "      <td>819064.442421</td>\n",
       "      <td>441703.018387</td>\n",
       "    </tr>\n",
       "    <tr>\n",
       "      <th>38800</th>\n",
       "      <td>954293.0</td>\n",
       "      <td>608736.0</td>\n",
       "      <td>408646.073965</td>\n",
       "      <td>547023.888315</td>\n",
       "      <td>649600.0</td>\n",
       "      <td>542907.865952</td>\n",
       "      <td>425951.533601</td>\n",
       "    </tr>\n",
       "    <tr>\n",
       "      <th>35939</th>\n",
       "      <td>375081.0</td>\n",
       "      <td>370528.0</td>\n",
       "      <td>408646.073965</td>\n",
       "      <td>379457.320343</td>\n",
       "      <td>344832.0</td>\n",
       "      <td>352103.228631</td>\n",
       "      <td>380358.151966</td>\n",
       "    </tr>\n",
       "    <tr>\n",
       "      <th>33312</th>\n",
       "      <td>685293.0</td>\n",
       "      <td>490192.0</td>\n",
       "      <td>408646.073965</td>\n",
       "      <td>476293.752166</td>\n",
       "      <td>554752.0</td>\n",
       "      <td>488167.390914</td>\n",
       "      <td>437304.730497</td>\n",
       "    </tr>\n",
       "  </tbody>\n",
       "</table>\n",
       "</div>"
      ],
      "text/plain": [
       "         actual  lm_preds   baseline_avg    lasso_preds  poly_preds  \\\n",
       "42956  386000.0  661536.0  408646.073965  690818.544404    588672.0   \n",
       "32660  557838.0  831120.0  408646.073965  737297.854706    809216.0   \n",
       "38800  954293.0  608736.0  408646.073965  547023.888315    649600.0   \n",
       "35939  375081.0  370528.0  408646.073965  379457.320343    344832.0   \n",
       "33312  685293.0  490192.0  408646.073965  476293.752166    554752.0   \n",
       "\n",
       "          lasso_poly  tweedie_norm_preds  \n",
       "42956  667217.948830       463571.049193  \n",
       "32660  819064.442421       441703.018387  \n",
       "38800  542907.865952       425951.533601  \n",
       "35939  352103.228631       380358.151966  \n",
       "33312  488167.390914       437304.730497  "
      ]
     },
     "execution_count": 100,
     "metadata": {},
     "output_type": "execute_result"
    }
   ],
   "source": [
    "preds_df.head()"
   ]
  },
  {
   "cell_type": "code",
   "execution_count": 96,
   "id": "a7253429",
   "metadata": {},
   "outputs": [
    {
     "data": {
      "text/plain": [
       "340455.65871630085"
      ]
     },
     "execution_count": 96,
     "metadata": {},
     "output_type": "execute_result"
    }
   ],
   "source": [
    "lasso2_rmse = sqrt(mean_squared_error(preds_df['actual'], preds_df['lasso_poly']))\n",
    "\n",
    "lasso2_rmse"
   ]
  },
  {
   "cell_type": "markdown",
   "id": "2ffed4b2",
   "metadata": {},
   "source": [
    "## glm "
   ]
  },
  {
   "cell_type": "markdown",
   "id": "6d4419d2",
   "metadata": {},
   "source": [
    "### normal distribution"
   ]
  },
  {
   "cell_type": "code",
   "execution_count": 101,
   "id": "a542777f",
   "metadata": {},
   "outputs": [
    {
     "data": {
      "text/html": [
       "<div>\n",
       "<style scoped>\n",
       "    .dataframe tbody tr th:only-of-type {\n",
       "        vertical-align: middle;\n",
       "    }\n",
       "\n",
       "    .dataframe tbody tr th {\n",
       "        vertical-align: top;\n",
       "    }\n",
       "\n",
       "    .dataframe thead th {\n",
       "        text-align: right;\n",
       "    }\n",
       "</style>\n",
       "<table border=\"1\" class=\"dataframe\">\n",
       "  <thead>\n",
       "    <tr style=\"text-align: right;\">\n",
       "      <th></th>\n",
       "      <th>actual</th>\n",
       "      <th>lm_preds</th>\n",
       "      <th>baseline_avg</th>\n",
       "      <th>lasso_preds</th>\n",
       "      <th>poly_preds</th>\n",
       "      <th>lasso_poly</th>\n",
       "      <th>tweedie_norm_preds</th>\n",
       "    </tr>\n",
       "  </thead>\n",
       "  <tbody>\n",
       "    <tr>\n",
       "      <th>42956</th>\n",
       "      <td>386000.0</td>\n",
       "      <td>661536.0</td>\n",
       "      <td>408646.073965</td>\n",
       "      <td>690818.544404</td>\n",
       "      <td>588672.0</td>\n",
       "      <td>667217.948830</td>\n",
       "      <td>463571.049193</td>\n",
       "    </tr>\n",
       "    <tr>\n",
       "      <th>32660</th>\n",
       "      <td>557838.0</td>\n",
       "      <td>831120.0</td>\n",
       "      <td>408646.073965</td>\n",
       "      <td>737297.854706</td>\n",
       "      <td>809216.0</td>\n",
       "      <td>819064.442421</td>\n",
       "      <td>441703.018387</td>\n",
       "    </tr>\n",
       "    <tr>\n",
       "      <th>38800</th>\n",
       "      <td>954293.0</td>\n",
       "      <td>608736.0</td>\n",
       "      <td>408646.073965</td>\n",
       "      <td>547023.888315</td>\n",
       "      <td>649600.0</td>\n",
       "      <td>542907.865952</td>\n",
       "      <td>425951.533601</td>\n",
       "    </tr>\n",
       "    <tr>\n",
       "      <th>35939</th>\n",
       "      <td>375081.0</td>\n",
       "      <td>370528.0</td>\n",
       "      <td>408646.073965</td>\n",
       "      <td>379457.320343</td>\n",
       "      <td>344832.0</td>\n",
       "      <td>352103.228631</td>\n",
       "      <td>380358.151966</td>\n",
       "    </tr>\n",
       "    <tr>\n",
       "      <th>33312</th>\n",
       "      <td>685293.0</td>\n",
       "      <td>490192.0</td>\n",
       "      <td>408646.073965</td>\n",
       "      <td>476293.752166</td>\n",
       "      <td>554752.0</td>\n",
       "      <td>488167.390914</td>\n",
       "      <td>437304.730497</td>\n",
       "    </tr>\n",
       "  </tbody>\n",
       "</table>\n",
       "</div>"
      ],
      "text/plain": [
       "         actual  lm_preds   baseline_avg    lasso_preds  poly_preds  \\\n",
       "42956  386000.0  661536.0  408646.073965  690818.544404    588672.0   \n",
       "32660  557838.0  831120.0  408646.073965  737297.854706    809216.0   \n",
       "38800  954293.0  608736.0  408646.073965  547023.888315    649600.0   \n",
       "35939  375081.0  370528.0  408646.073965  379457.320343    344832.0   \n",
       "33312  685293.0  490192.0  408646.073965  476293.752166    554752.0   \n",
       "\n",
       "          lasso_poly  tweedie_norm_preds  \n",
       "42956  667217.948830       463571.049193  \n",
       "32660  819064.442421       441703.018387  \n",
       "38800  542907.865952       425951.533601  \n",
       "35939  352103.228631       380358.151966  \n",
       "33312  488167.390914       437304.730497  "
      ]
     },
     "execution_count": 101,
     "metadata": {},
     "output_type": "execute_result"
    }
   ],
   "source": [
    "tweedie = TweedieRegressor(power=0)\n",
    "\n",
    "tweedie.fit(X_train_scaled, y_train)\n",
    "\n",
    "tweedie_preds = tweedie.predict(X_train_scaled)\n",
    "\n",
    "preds_df['tweedie_norm_preds'] = tweedie_preds\n",
    "\n",
    "preds_df.head()"
   ]
  },
  {
   "cell_type": "code",
   "execution_count": 102,
   "id": "dcf5e389",
   "metadata": {},
   "outputs": [
    {
     "data": {
      "text/plain": [
       "393669.06729214924"
      ]
     },
     "execution_count": 102,
     "metadata": {},
     "output_type": "execute_result"
    }
   ],
   "source": [
    "tweedie_norm = sqrt(mean_squared_error(preds_df['actual'], preds_df['tweedie_norm_preds']))\n",
    "\n",
    "tweedie_norm"
   ]
  },
  {
   "cell_type": "markdown",
   "id": "7d50828a",
   "metadata": {},
   "source": [
    "### poisson dist"
   ]
  },
  {
   "cell_type": "code",
   "execution_count": 103,
   "id": "43865370",
   "metadata": {},
   "outputs": [
    {
     "data": {
      "text/html": [
       "<div>\n",
       "<style scoped>\n",
       "    .dataframe tbody tr th:only-of-type {\n",
       "        vertical-align: middle;\n",
       "    }\n",
       "\n",
       "    .dataframe tbody tr th {\n",
       "        vertical-align: top;\n",
       "    }\n",
       "\n",
       "    .dataframe thead th {\n",
       "        text-align: right;\n",
       "    }\n",
       "</style>\n",
       "<table border=\"1\" class=\"dataframe\">\n",
       "  <thead>\n",
       "    <tr style=\"text-align: right;\">\n",
       "      <th></th>\n",
       "      <th>actual</th>\n",
       "      <th>lm_preds</th>\n",
       "      <th>baseline_avg</th>\n",
       "      <th>lasso_preds</th>\n",
       "      <th>poly_preds</th>\n",
       "      <th>lasso_poly</th>\n",
       "      <th>tweedie_norm_preds</th>\n",
       "      <th>tweedie_poisson_preds</th>\n",
       "    </tr>\n",
       "  </thead>\n",
       "  <tbody>\n",
       "    <tr>\n",
       "      <th>42956</th>\n",
       "      <td>386000.0</td>\n",
       "      <td>661536.0</td>\n",
       "      <td>408646.073965</td>\n",
       "      <td>690818.544404</td>\n",
       "      <td>588672.0</td>\n",
       "      <td>667217.948830</td>\n",
       "      <td>463571.049193</td>\n",
       "      <td>635796.281589</td>\n",
       "    </tr>\n",
       "    <tr>\n",
       "      <th>32660</th>\n",
       "      <td>557838.0</td>\n",
       "      <td>831120.0</td>\n",
       "      <td>408646.073965</td>\n",
       "      <td>737297.854706</td>\n",
       "      <td>809216.0</td>\n",
       "      <td>819064.442421</td>\n",
       "      <td>441703.018387</td>\n",
       "      <td>719348.980340</td>\n",
       "    </tr>\n",
       "    <tr>\n",
       "      <th>38800</th>\n",
       "      <td>954293.0</td>\n",
       "      <td>608736.0</td>\n",
       "      <td>408646.073965</td>\n",
       "      <td>547023.888315</td>\n",
       "      <td>649600.0</td>\n",
       "      <td>542907.865952</td>\n",
       "      <td>425951.533601</td>\n",
       "      <td>603406.978383</td>\n",
       "    </tr>\n",
       "    <tr>\n",
       "      <th>35939</th>\n",
       "      <td>375081.0</td>\n",
       "      <td>370528.0</td>\n",
       "      <td>408646.073965</td>\n",
       "      <td>379457.320343</td>\n",
       "      <td>344832.0</td>\n",
       "      <td>352103.228631</td>\n",
       "      <td>380358.151966</td>\n",
       "      <td>346521.814914</td>\n",
       "    </tr>\n",
       "    <tr>\n",
       "      <th>33312</th>\n",
       "      <td>685293.0</td>\n",
       "      <td>490192.0</td>\n",
       "      <td>408646.073965</td>\n",
       "      <td>476293.752166</td>\n",
       "      <td>554752.0</td>\n",
       "      <td>488167.390914</td>\n",
       "      <td>437304.730497</td>\n",
       "      <td>474385.081888</td>\n",
       "    </tr>\n",
       "  </tbody>\n",
       "</table>\n",
       "</div>"
      ],
      "text/plain": [
       "         actual  lm_preds   baseline_avg    lasso_preds  poly_preds  \\\n",
       "42956  386000.0  661536.0  408646.073965  690818.544404    588672.0   \n",
       "32660  557838.0  831120.0  408646.073965  737297.854706    809216.0   \n",
       "38800  954293.0  608736.0  408646.073965  547023.888315    649600.0   \n",
       "35939  375081.0  370528.0  408646.073965  379457.320343    344832.0   \n",
       "33312  685293.0  490192.0  408646.073965  476293.752166    554752.0   \n",
       "\n",
       "          lasso_poly  tweedie_norm_preds  tweedie_poisson_preds  \n",
       "42956  667217.948830       463571.049193          635796.281589  \n",
       "32660  819064.442421       441703.018387          719348.980340  \n",
       "38800  542907.865952       425951.533601          603406.978383  \n",
       "35939  352103.228631       380358.151966          346521.814914  \n",
       "33312  488167.390914       437304.730497          474385.081888  "
      ]
     },
     "execution_count": 103,
     "metadata": {},
     "output_type": "execute_result"
    }
   ],
   "source": [
    "tweedie = TweedieRegressor(power=1)\n",
    "\n",
    "tweedie.fit(X_train_scaled, y_train)\n",
    "\n",
    "tweedie_preds = tweedie.predict(X_train_scaled)\n",
    "\n",
    "preds_df['tweedie_poisson_preds'] = tweedie_preds\n",
    "\n",
    "preds_df.head()"
   ]
  },
  {
   "cell_type": "code",
   "execution_count": 104,
   "id": "b7ff60aa",
   "metadata": {},
   "outputs": [
    {
     "data": {
      "text/plain": [
       "341508.29877672816"
      ]
     },
     "execution_count": 104,
     "metadata": {},
     "output_type": "execute_result"
    }
   ],
   "source": [
    "tweedie_poisson = sqrt(mean_squared_error(preds_df['actual'], preds_df['tweedie_poisson_preds']))\n",
    "\n",
    "tweedie_poisson"
   ]
  },
  {
   "cell_type": "code",
   "execution_count": 105,
   "id": "79d0cfad",
   "metadata": {},
   "outputs": [
    {
     "data": {
      "text/html": [
       "<div>\n",
       "<style scoped>\n",
       "    .dataframe tbody tr th:only-of-type {\n",
       "        vertical-align: middle;\n",
       "    }\n",
       "\n",
       "    .dataframe tbody tr th {\n",
       "        vertical-align: top;\n",
       "    }\n",
       "\n",
       "    .dataframe thead th {\n",
       "        text-align: right;\n",
       "    }\n",
       "</style>\n",
       "<table border=\"1\" class=\"dataframe\">\n",
       "  <thead>\n",
       "    <tr style=\"text-align: right;\">\n",
       "      <th></th>\n",
       "      <th>model</th>\n",
       "      <th>rmse</th>\n",
       "    </tr>\n",
       "  </thead>\n",
       "  <tbody>\n",
       "    <tr>\n",
       "      <th>0</th>\n",
       "      <td>linear</td>\n",
       "      <td>342433.978437</td>\n",
       "    </tr>\n",
       "    <tr>\n",
       "      <th>1</th>\n",
       "      <td>lasso</td>\n",
       "      <td>343857.318003</td>\n",
       "    </tr>\n",
       "    <tr>\n",
       "      <th>2</th>\n",
       "      <td>linear_poly</td>\n",
       "      <td>337680.108291</td>\n",
       "    </tr>\n",
       "    <tr>\n",
       "      <th>3</th>\n",
       "      <td>lasso_poly</td>\n",
       "      <td>340455.658716</td>\n",
       "    </tr>\n",
       "    <tr>\n",
       "      <th>4</th>\n",
       "      <td>tweedie_norm</td>\n",
       "      <td>393669.067292</td>\n",
       "    </tr>\n",
       "    <tr>\n",
       "      <th>5</th>\n",
       "      <td>tweedie_poisson</td>\n",
       "      <td>341508.298777</td>\n",
       "    </tr>\n",
       "  </tbody>\n",
       "</table>\n",
       "</div>"
      ],
      "text/plain": [
       "             model           rmse\n",
       "0           linear  342433.978437\n",
       "1            lasso  343857.318003\n",
       "2      linear_poly  337680.108291\n",
       "3       lasso_poly  340455.658716\n",
       "4     tweedie_norm  393669.067292\n",
       "5  tweedie_poisson  341508.298777"
      ]
     },
     "execution_count": 105,
     "metadata": {},
     "output_type": "execute_result"
    }
   ],
   "source": [
    "results = pd.DataFrame({'model':['linear', 'lasso', 'linear_poly', 'lasso_poly', 'tweedie_norm', 'tweedie_poisson'],\n",
    "              'rmse':[lm_rmse, lasso_rmse, lm2_rmse, lasso2_rmse, tweedie_norm, tweedie_poisson]})\n",
    "\n",
    "results"
   ]
  },
  {
   "cell_type": "code",
   "execution_count": null,
   "id": "5b63e234",
   "metadata": {},
   "outputs": [],
   "source": [
    "def f_selector(k, X_train, y_train):\n",
    "    \n",
    "    f_selector = SelectKBest(f_regression, k=k)\n",
    "\n",
    "    f_selector.fit(X_train_scaled, y_train)\n",
    "\n",
    "    f_select_mask = f_selector.get_support()\n",
    "\n",
    "    select_k_best_features = X_train_scaled.iloc[:,f_select_mask]\n",
    "    \n",
    "    #print(select_k_best_features.head(k))\n",
    "    \n",
    "    return pd.DataFrame(select_k_best_features)"
   ]
  },
  {
   "cell_type": "code",
   "execution_count": null,
   "id": "c052a13a",
   "metadata": {},
   "outputs": [],
   "source": [
    "def rfe(n_features, X_train, y_train):\n",
    "    \n",
    "    lm = LinearRegression()\n",
    "    rfe = RFE(lm, n_features_to_select=n_features)\n",
    "\n",
    "    rfe.fit(X_train, y_train)\n",
    "\n",
    "    ranks = rfe.ranking_\n",
    "    columns = X_train.columns.tolist()\n",
    "    \n",
    "    feature_ranks = pd.DataFrame({'ranking': ranks,\n",
    "                              'feature': columns})\n",
    "\n",
    "    feature_ranks = feature_ranks.sort_values('ranking')\n",
    "\n",
    "    return pd.DataFrame(feature_ranks).head(n_features)"
   ]
  },
  {
   "cell_type": "code",
   "execution_count": null,
   "id": "da709102",
   "metadata": {},
   "outputs": [],
   "source": []
  },
  {
   "cell_type": "code",
   "execution_count": null,
   "id": "f093b148",
   "metadata": {},
   "outputs": [],
   "source": []
  },
  {
   "cell_type": "code",
   "execution_count": null,
   "id": "085353ce",
   "metadata": {},
   "outputs": [],
   "source": []
  }
 ],
 "metadata": {
  "kernelspec": {
   "display_name": "Python 3 (ipykernel)",
   "language": "python",
   "name": "python3"
  },
  "language_info": {
   "codemirror_mode": {
    "name": "ipython",
    "version": 3
   },
   "file_extension": ".py",
   "mimetype": "text/x-python",
   "name": "python",
   "nbconvert_exporter": "python",
   "pygments_lexer": "ipython3",
   "version": "3.9.15"
  },
  "toc": {
   "base_numbering": 1,
   "nav_menu": {},
   "number_sections": true,
   "sideBar": true,
   "skip_h1_title": false,
   "title_cell": "Table of Contents",
   "title_sidebar": "Contents",
   "toc_cell": false,
   "toc_position": {
    "height": "653px",
    "left": "244px",
    "top": "111.141px",
    "width": "302.391px"
   },
   "toc_section_display": true,
   "toc_window_display": false
  }
 },
 "nbformat": 4,
 "nbformat_minor": 5
}
